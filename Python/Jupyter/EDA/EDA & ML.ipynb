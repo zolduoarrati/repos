{
 "cells": [
  {
   "cell_type": "markdown",
   "metadata": {},
   "source": [
    "## Installing packages\n",
    "* pip install lightgbm\n",
    "* conda install -c conda-forge xgboost\n",
    "* pip install xgboost"
   ]
  },
  {
   "cell_type": "markdown",
   "metadata": {},
   "source": [
    "## **Stack OverFlow: EDA & ML**  \n",
    "\n",
    "**Elijah Zolduoarrati**  \n",
    "**Approaches and Techniques:**\n",
    "\n",
    "* EDA with Pandas and Seaborn\n",
    "* Find features with strong correlation to target variables questions and answers\n",
    "* Data preprocessing, converting categorical features mainly (country) to numerical\n",
    "* apply the basic Regression models of sklearn \n",
    "* use gridsearchCV to find the best parameters for each model\n",
    "* compare the performance of the Regressors and choose best one"
   ]
  },
  {
   "cell_type": "markdown",
   "metadata": {},
   "source": [
    "**The notebook is organized as follows:**\n",
    "\n",
    "* **[Part 0: Imports, Settings and switches, Global functions](#Part-0-:-Imports,-Settings,-Functions)**  \n",
    "* import libraries  \n",
    "* settings for number of cross validations  \n",
    "* define functions that are used often\n",
    "\n",
    "* **[Part 1: Exploratory Data Analysis](#Part-1:-Exploratory-Data-Analysis)**  \n",
    "1.1 Get an overview of the features (numerical and categorical) and first look on the target variables questions and answers\n",
    "[shape, info, head and describe](#shape,-info,-head-and-describe)  \n",
    "[Distribution of the target variable Q](#The-target-variable-:-Distribution-of-questions-and-answers)  \n",
    "[Numerical and Categorical features](#Numerical-and-Categorical-features)  \n",
    "[List of features with missing values](#List-of-features-with-missing-values) and Filling missing values using [log transform](#log-transform)  \n",
    "1.2 Relation of all features to target questions and answers  \n",
    "[Seaborn regression plots for numerical features](#Plots-of-relation-to-target-for-all-numerical-features)  \n",
    "[List of numerical features and their correlation coefficient to target](#List-of-numerical-features-and-their-correlation-coefficient-to-target)  \n",
    "[Seaborn boxplots for categorical features](#Relation-to-questions-and-answers-for-all-categorical-features)  \n",
    "[List of categorical features and their unique values](#List-of-categorical-features-and-their-unique-values)  \n",
    "1.3 Determine the columns that show strong correlation to target  \n",
    "[Correlation matrix 1](#Correlation-matrix-1) : all numerical features determine features with largest correlation to questions and answers\n",
    "\n",
    "* **[Part 2: Data wrangling](#Part-2:-Data-wrangling)**  \n",
    "[Dropping all columns with weak correlation to questions and answers](#Dropping-all-columns-with-weak-correlation-to-questions-and-answers)  \n",
    "[Convert categorical columns to numerical](#Convert-categorical-columns-to-numerical)  \n",
    "[Checking correlation to SalePrice for the new numerical columns](#Checking-correlation-to-questions-and-answers-for-the-new-numerical-columns)  \n",
    "use only features with strong correlation to target  \n",
    "[Correlation Matrix 2 (including converted categorical columns)](#Correlation-Matrix-2-:-All-features-with-strong-correlation-to-questions-and-answers)  \n",
    "Create datasets for ML algorithms:                                                                          \n",
    "[OneHotEncoder](#OneHotEncoder)  \n",
    "[StandardScaler](#StandardScaler)\n",
    "\n",
    "* **[Part 3: Scikit-learn basic regression models and comparison of results](#Part-3:-Scikit-learn-basic-regression-models-and-comparison-of-results)**  \n",
    "implement GridsearchCV with RMSE metric for Hyperparameter tuning for these models from sklearn:  \n",
    "[Linear Regression](#Linear-Regression)  \n",
    "[Ridge](#Ridge)  \n",
    "[Lasso](#Lasso)  \n",
    "[Elastic Net](#Elastic-Net)  \n",
    "[Stochastic Gradient Descent](#SGDRegressor)  \n",
    "[DecisionTreeRegressor](#DecisionTreeRegressor)  \n",
    "[Random Forest Regressor](#RandomForestRegressor)  \n",
    "[KNN Regressor](#KNN-Regressor)  \n",
    "Baed on RMSE metric, compare performance of the regressors with their optimized parameters, then explore correlation of the predictions and make submission with mean of best models plot comparison:             \n",
    "[RMSE of all models](#Comparison-plot:-RMSE-of-all-models)  \n",
    "[Correlation of model results](#Correlation-of-model-results)  \n",
    "Mean of best models\n",
    "\n",
    "\n",
    "Note on scores:  \n",
    "Submissions are evaluated on Root-Mean-Squared-Error (RMSE) between the logarithm of the predicted value and the logarithm of the observed questions and answers. (Taking logs means that errors in predicting questions and answers will affect the result equally.)"
   ]
  },
  {
   "cell_type": "markdown",
   "metadata": {},
   "source": [
    "# Part 0 : Imports, Settings, Functions"
   ]
  },
  {
   "cell_type": "code",
   "execution_count": 1,
   "metadata": {},
   "outputs": [],
   "source": [
    "#Visualizing Lib\n",
    "import seaborn as sns\n",
    "import matplotlib.pyplot as plt\n",
    "\n",
    "#Math Lib for some statistics\n",
    "from scipy import stats\n",
    "%matplotlib inline\n",
    "sns.set()\n",
    "\n",
    "# df preprocessing Lib\n",
    "import pandas as pd\n",
    "import numpy as np\n",
    "pd.set_option('max_columns', 105)\n",
    "\n",
    "# AI preprocessing lib\n",
    "from sklearn.pipeline import make_pipeline\n",
    "from sklearn.preprocessing import RobustScaler\n",
    "from sklearn.model_selection import KFold, cross_val_score\n",
    "from sklearn.metrics import mean_squared_error\n",
    "from sklearn.preprocessing import Imputer, LabelEncoder, OneHotEncoder, StandardScaler\n",
    "from sklearn.model_selection import train_test_split \n",
    "\n",
    "# ML Lib\n",
    "from sklearn.linear_model import ElasticNetCV, LassoCV, RidgeCV\n",
    "import sklearn.linear_model as linear_model\n",
    "from sklearn.svm import SVR\n",
    "from lightgbm import LGBMRegressor\n",
    "from sklearn.ensemble import GradientBoostingRegressor\n",
    "from xgboost import XGBRegressor\n",
    "from mlxtend.regressor import StackingCVRegressor\n",
    "\n",
    "# warning supressor\n",
    "import warnings\n",
    "warnings.filterwarnings(\"ignore\", category=FutureWarning)\n",
    "warnings.filterwarnings(\"ignore\", category=DeprecationWarning)\n",
    "#warnings.filterwarnings(\"ignore\")\n",
    "#importing necessary models and libraries"
   ]
  },
  {
   "cell_type": "markdown",
   "metadata": {},
   "source": [
    "**Settings and switches**\n",
    "\n",
    "**Here we can choose settings for optimal performance and runtime. For example, nr_cv sets the number of cross validations used in GridsearchCV, and min_val_corr is the minimum value for the correlation coefficient to the target (only features with larger correlation will be used).** "
   ]
  },
  {
   "cell_type": "code",
   "execution_count": 2,
   "metadata": {},
   "outputs": [],
   "source": [
    "# setting the number of cross validations used in the Model part \n",
    "nr_cv = 5\n",
    "\n",
    "# switch for using log values for SalePrice and features     \n",
    "use_logvals = 1    \n",
    "# target used for correlation \n",
    "target_1 = 'Questions_log'\n",
    "target_2 = 'Answers_log'    \n",
    "# only columns with correlation above this threshold value  \n",
    "# are used for the ML Regressors in Part 3\n",
    "min_val_corr = 0.4    \n",
    "    \n",
    "# switch for dropping columns that are similar to others already used and show a high correlation to these     \n",
    "drop_similar = 1"
   ]
  },
  {
   "cell_type": "markdown",
   "metadata": {},
   "source": [
    "**Initiate functions:**"
   ]
  },
  {
   "cell_type": "code",
   "execution_count": 3,
   "metadata": {},
   "outputs": [],
   "source": [
    "def get_best_score(grid):\n",
    "    \n",
    "    best_score = np.sqrt(-grid.best_score_)\n",
    "    print(best_score)    \n",
    "    print(grid.best_params_)\n",
    "    print(grid.best_estimator_)\n",
    "    return best_score\n",
    "\n",
    "def print_cols_large_corr(df, nr_c, targ) :\n",
    "    corr = df.corr()\n",
    "    corr_abs = corr.abs()\n",
    "    print (corr_abs.nlargest(nr_c, targ)[targ])\n",
    "\n",
    "def plot_corr_matrix(df, nr_c, targ) :\n",
    "    \n",
    "    corr = df.corr()\n",
    "    corr_abs = corr.abs()\n",
    "    cols = corr_abs.nlargest(nr_c, targ)[targ].index\n",
    "    cm = np.corrcoef(df[cols].values.T)\n",
    "\n",
    "    plt.figure(figsize=(nr_c/1.5, nr_c/1.5))\n",
    "    sns.set(font_scale=1.25)\n",
    "    sns.heatmap(cm, linewidths=1.5, annot=True, square=True, \n",
    "                fmt='.2f', annot_kws={'size': 10}, \n",
    "                yticklabels=cols.values, xticklabels=cols.values\n",
    "               )\n",
    "    plt.show()"
   ]
  },
  {
   "cell_type": "code",
   "execution_count": 4,
   "metadata": {},
   "outputs": [
    {
     "name": "stdout",
     "output_type": "stream",
     "text": [
      " Volume in drive C is Windows\r\n",
      " Volume Serial Number is 5843-B50F\r\n",
      "\r\n",
      " Directory of C:\\Users\\alamo248\\Downloads\\Data\r\n",
      "\r\n",
      "10/12/2019  04:07 PM           191,469 all_uptt.csv\r\n",
      "               1 File(s)        191,469 bytes\r\n",
      "               0 Dir(s)  359,947,149,312 bytes free\r\n",
      "\n"
     ]
    }
   ],
   "source": [
    "from subprocess import check_output, call \n",
    "print(check_output([\"dir\", \"C:\\\\Users\\\\alamo248\\\\Downloads\\\\Data\\\\all_uptt.csv\"],shell=True).decode(\"utf8\"))"
   ]
  },
  {
   "cell_type": "code",
   "execution_count": 5,
   "metadata": {},
   "outputs": [],
   "source": [
    "#Importing data into dataframe\n",
    "df =  pd.read_csv('C://Data/all_upt.csv')"
   ]
  },
  {
   "cell_type": "code",
   "execution_count": 6,
   "metadata": {},
   "outputs": [
    {
     "data": {
      "text/html": [
       "<div>\n",
       "<style scoped>\n",
       "    .dataframe tbody tr th:only-of-type {\n",
       "        vertical-align: middle;\n",
       "    }\n",
       "\n",
       "    .dataframe tbody tr th {\n",
       "        vertical-align: top;\n",
       "    }\n",
       "\n",
       "    .dataframe thead th {\n",
       "        text-align: right;\n",
       "    }\n",
       "</style>\n",
       "<table border=\"1\" class=\"dataframe\">\n",
       "  <thead>\n",
       "    <tr style=\"text-align: right;\">\n",
       "      <th></th>\n",
       "      <th>Id</th>\n",
       "      <th>AboutMe</th>\n",
       "      <th>CreationDate</th>\n",
       "      <th>LastAccessDate</th>\n",
       "      <th>DisplayName</th>\n",
       "      <th>Location</th>\n",
       "      <th>country</th>\n",
       "      <th>AboutMe_length</th>\n",
       "      <th>activity_in_months</th>\n",
       "      <th>UpVotes</th>\n",
       "      <th>DownVotes</th>\n",
       "      <th>Reputation</th>\n",
       "      <th>Views</th>\n",
       "      <th>badges</th>\n",
       "      <th>Q_comments</th>\n",
       "      <th>A_comments</th>\n",
       "      <th>P_questions</th>\n",
       "      <th>P_answers</th>\n",
       "    </tr>\n",
       "  </thead>\n",
       "  <tbody>\n",
       "    <tr>\n",
       "      <th>0</th>\n",
       "      <td>7784035</td>\n",
       "      <td>&lt;p&gt;This product may also help you to feel full...</td>\n",
       "      <td>2017-03-29 06:30:11.463 UTC</td>\n",
       "      <td>2017-03-29 06:30:11.463 UTC</td>\n",
       "      <td>berwenally</td>\n",
       "      <td>New York</td>\n",
       "      <td>usa</td>\n",
       "      <td>1407.0</td>\n",
       "      <td>0.0</td>\n",
       "      <td>0</td>\n",
       "      <td>0</td>\n",
       "      <td>1</td>\n",
       "      <td>2</td>\n",
       "      <td>1</td>\n",
       "      <td>10.0</td>\n",
       "      <td>11.0</td>\n",
       "      <td>12.0</td>\n",
       "      <td>13.0</td>\n",
       "    </tr>\n",
       "    <tr>\n",
       "      <th>1</th>\n",
       "      <td>9126518</td>\n",
       "      <td>&lt;p&gt;A simple way to keep your hands moisturized...</td>\n",
       "      <td>2017-12-21 10:07:00.237 UTC</td>\n",
       "      <td>2017-12-21 10:07:00.237 UTC</td>\n",
       "      <td>TeresaEWilliams</td>\n",
       "      <td>United States</td>\n",
       "      <td>usa</td>\n",
       "      <td>622.0</td>\n",
       "      <td>0.0</td>\n",
       "      <td>0</td>\n",
       "      <td>0</td>\n",
       "      <td>1</td>\n",
       "      <td>0</td>\n",
       "      <td>1</td>\n",
       "      <td>NaN</td>\n",
       "      <td>NaN</td>\n",
       "      <td>0.0</td>\n",
       "      <td>0.0</td>\n",
       "    </tr>\n",
       "    <tr>\n",
       "      <th>2</th>\n",
       "      <td>10021482</td>\n",
       "      <td>&lt;p&gt;Completely covers and protects your body pi...</td>\n",
       "      <td>2018-07-02 12:09:47.843 UTC</td>\n",
       "      <td>2018-07-02 13:30:11.797 UTC</td>\n",
       "      <td>kimberly02</td>\n",
       "      <td>Fremont</td>\n",
       "      <td>usa</td>\n",
       "      <td>370.0</td>\n",
       "      <td>0.0</td>\n",
       "      <td>0</td>\n",
       "      <td>0</td>\n",
       "      <td>1</td>\n",
       "      <td>1</td>\n",
       "      <td>1</td>\n",
       "      <td>NaN</td>\n",
       "      <td>NaN</td>\n",
       "      <td>0.0</td>\n",
       "      <td>0.0</td>\n",
       "    </tr>\n",
       "    <tr>\n",
       "      <th>3</th>\n",
       "      <td>2739419</td>\n",
       "      <td>&lt;p&gt;POOL TABLES FOR SALE CONTEMPORARY CLASSIC C...</td>\n",
       "      <td>2013-09-02 10:00:27.57 UTC</td>\n",
       "      <td>2013-09-02 10:00:27.57 UTC</td>\n",
       "      <td>USA Made Pool Tables</td>\n",
       "      <td>California</td>\n",
       "      <td>usa</td>\n",
       "      <td>400.0</td>\n",
       "      <td>0.0</td>\n",
       "      <td>0</td>\n",
       "      <td>0</td>\n",
       "      <td>1</td>\n",
       "      <td>1</td>\n",
       "      <td>1</td>\n",
       "      <td>NaN</td>\n",
       "      <td>NaN</td>\n",
       "      <td>0.0</td>\n",
       "      <td>0.0</td>\n",
       "    </tr>\n",
       "    <tr>\n",
       "      <th>4</th>\n",
       "      <td>1440631</td>\n",
       "      <td>&lt;p&gt;I am a Software Engineer&lt;/p&gt;\\n</td>\n",
       "      <td>2012-06-06 19:21:00.903 UTC</td>\n",
       "      <td>2012-06-06 19:36:13.78 UTC</td>\n",
       "      <td>twinkle</td>\n",
       "      <td>United States</td>\n",
       "      <td>usa</td>\n",
       "      <td>32.0</td>\n",
       "      <td>0.0</td>\n",
       "      <td>0</td>\n",
       "      <td>0</td>\n",
       "      <td>1</td>\n",
       "      <td>0</td>\n",
       "      <td>1</td>\n",
       "      <td>NaN</td>\n",
       "      <td>NaN</td>\n",
       "      <td>0.0</td>\n",
       "      <td>0.0</td>\n",
       "    </tr>\n",
       "  </tbody>\n",
       "</table>\n",
       "</div>"
      ],
      "text/plain": [
       "         Id                                            AboutMe  \\\n",
       "0   7784035  <p>This product may also help you to feel full...   \n",
       "1   9126518  <p>A simple way to keep your hands moisturized...   \n",
       "2  10021482  <p>Completely covers and protects your body pi...   \n",
       "3   2739419  <p>POOL TABLES FOR SALE CONTEMPORARY CLASSIC C...   \n",
       "4   1440631                  <p>I am a Software Engineer</p>\\n   \n",
       "\n",
       "                  CreationDate               LastAccessDate  \\\n",
       "0  2017-03-29 06:30:11.463 UTC  2017-03-29 06:30:11.463 UTC   \n",
       "1  2017-12-21 10:07:00.237 UTC  2017-12-21 10:07:00.237 UTC   \n",
       "2  2018-07-02 12:09:47.843 UTC  2018-07-02 13:30:11.797 UTC   \n",
       "3   2013-09-02 10:00:27.57 UTC   2013-09-02 10:00:27.57 UTC   \n",
       "4  2012-06-06 19:21:00.903 UTC   2012-06-06 19:36:13.78 UTC   \n",
       "\n",
       "            DisplayName       Location country  AboutMe_length  \\\n",
       "0            berwenally       New York     usa          1407.0   \n",
       "1       TeresaEWilliams  United States     usa           622.0   \n",
       "2            kimberly02        Fremont     usa           370.0   \n",
       "3  USA Made Pool Tables     California     usa           400.0   \n",
       "4               twinkle  United States     usa            32.0   \n",
       "\n",
       "   activity_in_months  UpVotes  DownVotes  Reputation  Views  badges  \\\n",
       "0                 0.0        0          0           1      2       1   \n",
       "1                 0.0        0          0           1      0       1   \n",
       "2                 0.0        0          0           1      1       1   \n",
       "3                 0.0        0          0           1      1       1   \n",
       "4                 0.0        0          0           1      0       1   \n",
       "\n",
       "   Q_comments  A_comments  P_questions  P_answers  \n",
       "0        10.0        11.0         12.0       13.0  \n",
       "1         NaN         NaN          0.0        0.0  \n",
       "2         NaN         NaN          0.0        0.0  \n",
       "3         NaN         NaN          0.0        0.0  \n",
       "4         NaN         NaN          0.0        0.0  "
      ]
     },
     "execution_count": 6,
     "metadata": {},
     "output_type": "execute_result"
    }
   ],
   "source": [
    "#Displaying dataframe\n",
    "df.head()"
   ]
  },
  {
   "cell_type": "code",
   "execution_count": 7,
   "metadata": {},
   "outputs": [],
   "source": [
    "# subtitute missing values by zero\n",
    "#df = df.fillna(0)\n",
    "#Displaying modified dataframe\n",
    "#df.head()"
   ]
  },
  {
   "cell_type": "code",
   "execution_count": 8,
   "metadata": {},
   "outputs": [],
   "source": [
    "## creating a variable vector\n",
    "df = df.iloc[:,[0,6,7,8,9,10,11,12,13,14,15,16,17]]\n",
    "# Or\n",
    "# vec = df.loc[:,['Id','DisplayName','Location','country','AboutMe_length','activity_in_months','UpVotes','DownVotes','Reputation','Views','badges','Q_comments','A_comments','P_questions','P_answers']]"
   ]
  },
  {
   "cell_type": "code",
   "execution_count": 9,
   "metadata": {},
   "outputs": [
    {
     "data": {
      "text/html": [
       "<div>\n",
       "<style scoped>\n",
       "    .dataframe tbody tr th:only-of-type {\n",
       "        vertical-align: middle;\n",
       "    }\n",
       "\n",
       "    .dataframe tbody tr th {\n",
       "        vertical-align: top;\n",
       "    }\n",
       "\n",
       "    .dataframe thead th {\n",
       "        text-align: right;\n",
       "    }\n",
       "</style>\n",
       "<table border=\"1\" class=\"dataframe\">\n",
       "  <thead>\n",
       "    <tr style=\"text-align: right;\">\n",
       "      <th></th>\n",
       "      <th>Id</th>\n",
       "      <th>country</th>\n",
       "      <th>AboutMe_length</th>\n",
       "      <th>activity_in_months</th>\n",
       "      <th>UpVotes</th>\n",
       "      <th>DownVotes</th>\n",
       "      <th>Reputation</th>\n",
       "      <th>Views</th>\n",
       "      <th>badges</th>\n",
       "      <th>Q_comments</th>\n",
       "      <th>A_comments</th>\n",
       "      <th>P_questions</th>\n",
       "      <th>P_answers</th>\n",
       "    </tr>\n",
       "  </thead>\n",
       "  <tbody>\n",
       "    <tr>\n",
       "      <th>0</th>\n",
       "      <td>7784035</td>\n",
       "      <td>usa</td>\n",
       "      <td>1407.0</td>\n",
       "      <td>0.0</td>\n",
       "      <td>0</td>\n",
       "      <td>0</td>\n",
       "      <td>1</td>\n",
       "      <td>2</td>\n",
       "      <td>1</td>\n",
       "      <td>10.0</td>\n",
       "      <td>11.0</td>\n",
       "      <td>12.0</td>\n",
       "      <td>13.0</td>\n",
       "    </tr>\n",
       "    <tr>\n",
       "      <th>1</th>\n",
       "      <td>9126518</td>\n",
       "      <td>usa</td>\n",
       "      <td>622.0</td>\n",
       "      <td>0.0</td>\n",
       "      <td>0</td>\n",
       "      <td>0</td>\n",
       "      <td>1</td>\n",
       "      <td>0</td>\n",
       "      <td>1</td>\n",
       "      <td>NaN</td>\n",
       "      <td>NaN</td>\n",
       "      <td>0.0</td>\n",
       "      <td>0.0</td>\n",
       "    </tr>\n",
       "    <tr>\n",
       "      <th>2</th>\n",
       "      <td>10021482</td>\n",
       "      <td>usa</td>\n",
       "      <td>370.0</td>\n",
       "      <td>0.0</td>\n",
       "      <td>0</td>\n",
       "      <td>0</td>\n",
       "      <td>1</td>\n",
       "      <td>1</td>\n",
       "      <td>1</td>\n",
       "      <td>NaN</td>\n",
       "      <td>NaN</td>\n",
       "      <td>0.0</td>\n",
       "      <td>0.0</td>\n",
       "    </tr>\n",
       "    <tr>\n",
       "      <th>3</th>\n",
       "      <td>2739419</td>\n",
       "      <td>usa</td>\n",
       "      <td>400.0</td>\n",
       "      <td>0.0</td>\n",
       "      <td>0</td>\n",
       "      <td>0</td>\n",
       "      <td>1</td>\n",
       "      <td>1</td>\n",
       "      <td>1</td>\n",
       "      <td>NaN</td>\n",
       "      <td>NaN</td>\n",
       "      <td>0.0</td>\n",
       "      <td>0.0</td>\n",
       "    </tr>\n",
       "    <tr>\n",
       "      <th>4</th>\n",
       "      <td>1440631</td>\n",
       "      <td>usa</td>\n",
       "      <td>32.0</td>\n",
       "      <td>0.0</td>\n",
       "      <td>0</td>\n",
       "      <td>0</td>\n",
       "      <td>1</td>\n",
       "      <td>0</td>\n",
       "      <td>1</td>\n",
       "      <td>NaN</td>\n",
       "      <td>NaN</td>\n",
       "      <td>0.0</td>\n",
       "      <td>0.0</td>\n",
       "    </tr>\n",
       "  </tbody>\n",
       "</table>\n",
       "</div>"
      ],
      "text/plain": [
       "         Id country  AboutMe_length  activity_in_months  UpVotes  DownVotes  \\\n",
       "0   7784035     usa          1407.0                 0.0        0          0   \n",
       "1   9126518     usa           622.0                 0.0        0          0   \n",
       "2  10021482     usa           370.0                 0.0        0          0   \n",
       "3   2739419     usa           400.0                 0.0        0          0   \n",
       "4   1440631     usa            32.0                 0.0        0          0   \n",
       "\n",
       "   Reputation  Views  badges  Q_comments  A_comments  P_questions  P_answers  \n",
       "0           1      2       1        10.0        11.0         12.0       13.0  \n",
       "1           1      0       1         NaN         NaN          0.0        0.0  \n",
       "2           1      1       1         NaN         NaN          0.0        0.0  \n",
       "3           1      1       1         NaN         NaN          0.0        0.0  \n",
       "4           1      0       1         NaN         NaN          0.0        0.0  "
      ]
     },
     "execution_count": 9,
     "metadata": {},
     "output_type": "execute_result"
    }
   ],
   "source": [
    "df.head()"
   ]
  },
  {
   "cell_type": "code",
   "execution_count": 10,
   "metadata": {},
   "outputs": [],
   "source": [
    "# Create training and testing sets\n",
    "df_train,df_test= train_test_split(df, test_size = 0.2, random_state = 0)"
   ]
  },
  {
   "cell_type": "markdown",
   "metadata": {},
   "source": [
    "# Part 1: Exploratory Data Analysis"
   ]
  },
  {
   "cell_type": "markdown",
   "metadata": {},
   "source": [
    "## 1.1 Overview of features and relation to target\n",
    "\n",
    "Let's get a first overview of the train and test dataset\n",
    "* How many rows and columns are there?  \n",
    "* What are the names of the features (columns)?  \n",
    "* Which features are numerical, which are categorical?  \n",
    "* How many values are missing?  \n",
    "The **shape** and **info** methods answer these questions. Whereas, the **head** displays some rows of the dataset **describe** gives a summary of the statistics (only for numerical columns)"
   ]
  },
  {
   "cell_type": "markdown",
   "metadata": {},
   "source": [
    "### Shape, Info, Head & Describe -----> Functions"
   ]
  },
  {
   "cell_type": "code",
   "execution_count": 11,
   "metadata": {},
   "outputs": [
    {
     "name": "stdout",
     "output_type": "stream",
     "text": [
      "----------------------------------------------------------------------------------------------------\n",
      "training sample size\n",
      "(112147, 13)\n",
      "----------------------------------------------------------------------------------------------------\n",
      "testing sample size\n",
      "(28037, 13)\n",
      "----------------------------------------------------------------------------------------------------\n",
      "training sample features description\n",
      "<class 'pandas.core.frame.DataFrame'>\n",
      "Int64Index: 112147 entries, 8441 to 43567\n",
      "Data columns (total 13 columns):\n",
      "Id                    112147 non-null int64\n",
      "country               112147 non-null object\n",
      "AboutMe_length        72567 non-null float64\n",
      "activity_in_months    112147 non-null float64\n",
      "UpVotes               112147 non-null int64\n",
      "DownVotes             112147 non-null int64\n",
      "Reputation            112147 non-null int64\n",
      "Views                 112147 non-null int64\n",
      "badges                112147 non-null int64\n",
      "Q_comments            29880 non-null float64\n",
      "A_comments            29880 non-null float64\n",
      "P_questions           83111 non-null float64\n",
      "P_answers             82712 non-null float64\n",
      "dtypes: float64(6), int64(6), object(1)\n",
      "memory usage: 12.0+ MB\n",
      "None\n",
      "----------------------------------------------------------------------------------------------------\n",
      "testing sample features description\n",
      "<class 'pandas.core.frame.DataFrame'>\n",
      "Int64Index: 112147 entries, 8441 to 43567\n",
      "Data columns (total 13 columns):\n",
      "Id                    112147 non-null int64\n",
      "country               112147 non-null object\n",
      "AboutMe_length        72567 non-null float64\n",
      "activity_in_months    112147 non-null float64\n",
      "UpVotes               112147 non-null int64\n",
      "DownVotes             112147 non-null int64\n",
      "Reputation            112147 non-null int64\n",
      "Views                 112147 non-null int64\n",
      "badges                112147 non-null int64\n",
      "Q_comments            29880 non-null float64\n",
      "A_comments            29880 non-null float64\n",
      "P_questions           83111 non-null float64\n",
      "P_answers             82712 non-null float64\n",
      "dtypes: float64(6), int64(6), object(1)\n",
      "memory usage: 12.0+ MB\n",
      "None\n",
      "----------------------------------------------------------------------------------------------------\n"
     ]
    }
   ],
   "source": [
    "print('-'*100)\n",
    "print('training sample size')\n",
    "print(df_train.shape)\n",
    "print('-'*100)\n",
    "print('testing sample size')\n",
    "print(df_test.shape)\n",
    "print('-'*100)\n",
    "print('training sample features description')\n",
    "print(df_train.info())\n",
    "print('-'*100)\n",
    "print('testing sample features description')\n",
    "print(df_train.info())\n",
    "print('-'*100)"
   ]
  },
  {
   "cell_type": "markdown",
   "metadata": {},
   "source": [
    "* It seems like the trainning and tesing dataframe *(df)* vector *(vec)* consists of 13 columns (12 features excluding Id), as for the training df vec, it has 112147 entries (number of rows). On the other hand,  df test vec has 28037 entries.  \n",
    "* There are lots of info that is probably related to the dependent variables (target) questions and answers such as badges, reputaion, etc...   \n",
    "* Maybe other features are not so important for predicting the target, also there might be a strong correlation for some of the features (like activity_in_month).\n",
    "* There are missing in some columns and it seems some countries tend to have more missing data than others, we are going to deal with missing data accordingly in a later stage"
   ]
  },
  {
   "cell_type": "code",
   "execution_count": 12,
   "metadata": {},
   "outputs": [
    {
     "data": {
      "text/html": [
       "<div>\n",
       "<style scoped>\n",
       "    .dataframe tbody tr th:only-of-type {\n",
       "        vertical-align: middle;\n",
       "    }\n",
       "\n",
       "    .dataframe tbody tr th {\n",
       "        vertical-align: top;\n",
       "    }\n",
       "\n",
       "    .dataframe thead th {\n",
       "        text-align: right;\n",
       "    }\n",
       "</style>\n",
       "<table border=\"1\" class=\"dataframe\">\n",
       "  <thead>\n",
       "    <tr style=\"text-align: right;\">\n",
       "      <th></th>\n",
       "      <th>Id</th>\n",
       "      <th>country</th>\n",
       "      <th>AboutMe_length</th>\n",
       "      <th>activity_in_months</th>\n",
       "      <th>UpVotes</th>\n",
       "      <th>DownVotes</th>\n",
       "      <th>Reputation</th>\n",
       "      <th>Views</th>\n",
       "      <th>badges</th>\n",
       "      <th>Q_comments</th>\n",
       "      <th>A_comments</th>\n",
       "      <th>P_questions</th>\n",
       "      <th>P_answers</th>\n",
       "    </tr>\n",
       "  </thead>\n",
       "  <tbody>\n",
       "    <tr>\n",
       "      <th>8441</th>\n",
       "      <td>6406742</td>\n",
       "      <td>usa</td>\n",
       "      <td>0.0</td>\n",
       "      <td>0.0</td>\n",
       "      <td>0</td>\n",
       "      <td>0</td>\n",
       "      <td>1</td>\n",
       "      <td>0</td>\n",
       "      <td>0</td>\n",
       "      <td>NaN</td>\n",
       "      <td>NaN</td>\n",
       "      <td>0.0</td>\n",
       "      <td>0.0</td>\n",
       "    </tr>\n",
       "    <tr>\n",
       "      <th>71219</th>\n",
       "      <td>402309</td>\n",
       "      <td>usa</td>\n",
       "      <td>65.0</td>\n",
       "      <td>76.8</td>\n",
       "      <td>12</td>\n",
       "      <td>0</td>\n",
       "      <td>71</td>\n",
       "      <td>54</td>\n",
       "      <td>11</td>\n",
       "      <td>6.0</td>\n",
       "      <td>3.0</td>\n",
       "      <td>12.0</td>\n",
       "      <td>3.0</td>\n",
       "    </tr>\n",
       "    <tr>\n",
       "      <th>91713</th>\n",
       "      <td>8745370</td>\n",
       "      <td>china</td>\n",
       "      <td>NaN</td>\n",
       "      <td>2.6</td>\n",
       "      <td>0</td>\n",
       "      <td>0</td>\n",
       "      <td>1</td>\n",
       "      <td>0</td>\n",
       "      <td>1</td>\n",
       "      <td>NaN</td>\n",
       "      <td>NaN</td>\n",
       "      <td>NaN</td>\n",
       "      <td>NaN</td>\n",
       "    </tr>\n",
       "    <tr>\n",
       "      <th>15695</th>\n",
       "      <td>8980446</td>\n",
       "      <td>usa</td>\n",
       "      <td>NaN</td>\n",
       "      <td>0.8</td>\n",
       "      <td>0</td>\n",
       "      <td>0</td>\n",
       "      <td>1</td>\n",
       "      <td>0</td>\n",
       "      <td>1</td>\n",
       "      <td>NaN</td>\n",
       "      <td>NaN</td>\n",
       "      <td>0.0</td>\n",
       "      <td>0.0</td>\n",
       "    </tr>\n",
       "    <tr>\n",
       "      <th>72968</th>\n",
       "      <td>974502</td>\n",
       "      <td>usa</td>\n",
       "      <td>0.0</td>\n",
       "      <td>80.9</td>\n",
       "      <td>7</td>\n",
       "      <td>0</td>\n",
       "      <td>333</td>\n",
       "      <td>13</td>\n",
       "      <td>6</td>\n",
       "      <td>NaN</td>\n",
       "      <td>NaN</td>\n",
       "      <td>0.0</td>\n",
       "      <td>17.0</td>\n",
       "    </tr>\n",
       "  </tbody>\n",
       "</table>\n",
       "</div>"
      ],
      "text/plain": [
       "            Id country  AboutMe_length  activity_in_months  UpVotes  \\\n",
       "8441   6406742     usa             0.0                 0.0        0   \n",
       "71219   402309     usa            65.0                76.8       12   \n",
       "91713  8745370   china             NaN                 2.6        0   \n",
       "15695  8980446     usa             NaN                 0.8        0   \n",
       "72968   974502     usa             0.0                80.9        7   \n",
       "\n",
       "       DownVotes  Reputation  Views  badges  Q_comments  A_comments  \\\n",
       "8441           0           1      0       0         NaN         NaN   \n",
       "71219          0          71     54      11         6.0         3.0   \n",
       "91713          0           1      0       1         NaN         NaN   \n",
       "15695          0           1      0       1         NaN         NaN   \n",
       "72968          0         333     13       6         NaN         NaN   \n",
       "\n",
       "       P_questions  P_answers  \n",
       "8441           0.0        0.0  \n",
       "71219         12.0        3.0  \n",
       "91713          NaN        NaN  \n",
       "15695          0.0        0.0  \n",
       "72968          0.0       17.0  "
      ]
     },
     "execution_count": 12,
     "metadata": {},
     "output_type": "execute_result"
    }
   ],
   "source": [
    "# displaying a sample from the training dataframe\n",
    "df_train.head()"
   ]
  },
  {
   "cell_type": "code",
   "execution_count": 13,
   "metadata": {},
   "outputs": [
    {
     "data": {
      "text/html": [
       "<div>\n",
       "<style scoped>\n",
       "    .dataframe tbody tr th:only-of-type {\n",
       "        vertical-align: middle;\n",
       "    }\n",
       "\n",
       "    .dataframe tbody tr th {\n",
       "        vertical-align: top;\n",
       "    }\n",
       "\n",
       "    .dataframe thead th {\n",
       "        text-align: right;\n",
       "    }\n",
       "</style>\n",
       "<table border=\"1\" class=\"dataframe\">\n",
       "  <thead>\n",
       "    <tr style=\"text-align: right;\">\n",
       "      <th></th>\n",
       "      <th>Id</th>\n",
       "      <th>AboutMe_length</th>\n",
       "      <th>activity_in_months</th>\n",
       "      <th>UpVotes</th>\n",
       "      <th>DownVotes</th>\n",
       "      <th>Reputation</th>\n",
       "      <th>Views</th>\n",
       "      <th>badges</th>\n",
       "      <th>Q_comments</th>\n",
       "      <th>A_comments</th>\n",
       "      <th>P_questions</th>\n",
       "      <th>P_answers</th>\n",
       "    </tr>\n",
       "  </thead>\n",
       "  <tbody>\n",
       "    <tr>\n",
       "      <th>count</th>\n",
       "      <td>1.121470e+05</td>\n",
       "      <td>72567.000000</td>\n",
       "      <td>112147.000000</td>\n",
       "      <td>112147.000000</td>\n",
       "      <td>112147.000000</td>\n",
       "      <td>112147.000000</td>\n",
       "      <td>112147.000000</td>\n",
       "      <td>112147.000000</td>\n",
       "      <td>29880.000000</td>\n",
       "      <td>29880.000000</td>\n",
       "      <td>83111.000000</td>\n",
       "      <td>82712.000000</td>\n",
       "    </tr>\n",
       "    <tr>\n",
       "      <th>mean</th>\n",
       "      <td>5.254029e+06</td>\n",
       "      <td>103.525253</td>\n",
       "      <td>33.385235</td>\n",
       "      <td>53.412922</td>\n",
       "      <td>6.046020</td>\n",
       "      <td>544.607034</td>\n",
       "      <td>65.527540</td>\n",
       "      <td>8.762972</td>\n",
       "      <td>7.093273</td>\n",
       "      <td>14.362483</td>\n",
       "      <td>5.081337</td>\n",
       "      <td>15.440577</td>\n",
       "    </tr>\n",
       "    <tr>\n",
       "      <th>std</th>\n",
       "      <td>3.493744e+06</td>\n",
       "      <td>240.822091</td>\n",
       "      <td>35.728919</td>\n",
       "      <td>366.203056</td>\n",
       "      <td>193.574696</td>\n",
       "      <td>6673.717768</td>\n",
       "      <td>1258.866708</td>\n",
       "      <td>34.372489</td>\n",
       "      <td>21.792996</td>\n",
       "      <td>120.308331</td>\n",
       "      <td>20.267219</td>\n",
       "      <td>255.790089</td>\n",
       "    </tr>\n",
       "    <tr>\n",
       "      <th>min</th>\n",
       "      <td>3.200000e+01</td>\n",
       "      <td>0.000000</td>\n",
       "      <td>0.000000</td>\n",
       "      <td>0.000000</td>\n",
       "      <td>0.000000</td>\n",
       "      <td>1.000000</td>\n",
       "      <td>0.000000</td>\n",
       "      <td>0.000000</td>\n",
       "      <td>0.000000</td>\n",
       "      <td>0.000000</td>\n",
       "      <td>0.000000</td>\n",
       "      <td>0.000000</td>\n",
       "    </tr>\n",
       "    <tr>\n",
       "      <th>25%</th>\n",
       "      <td>2.039419e+06</td>\n",
       "      <td>0.000000</td>\n",
       "      <td>2.400000</td>\n",
       "      <td>0.000000</td>\n",
       "      <td>0.000000</td>\n",
       "      <td>1.000000</td>\n",
       "      <td>0.000000</td>\n",
       "      <td>0.000000</td>\n",
       "      <td>0.000000</td>\n",
       "      <td>0.000000</td>\n",
       "      <td>0.000000</td>\n",
       "      <td>0.000000</td>\n",
       "    </tr>\n",
       "    <tr>\n",
       "      <th>50%</th>\n",
       "      <td>4.943085e+06</td>\n",
       "      <td>22.000000</td>\n",
       "      <td>19.400000</td>\n",
       "      <td>0.000000</td>\n",
       "      <td>0.000000</td>\n",
       "      <td>1.000000</td>\n",
       "      <td>2.000000</td>\n",
       "      <td>2.000000</td>\n",
       "      <td>2.000000</td>\n",
       "      <td>1.000000</td>\n",
       "      <td>1.000000</td>\n",
       "      <td>1.000000</td>\n",
       "    </tr>\n",
       "    <tr>\n",
       "      <th>75%</th>\n",
       "      <td>8.321042e+06</td>\n",
       "      <td>99.000000</td>\n",
       "      <td>58.500000</td>\n",
       "      <td>4.000000</td>\n",
       "      <td>0.000000</td>\n",
       "      <td>57.000000</td>\n",
       "      <td>13.000000</td>\n",
       "      <td>6.000000</td>\n",
       "      <td>6.000000</td>\n",
       "      <td>4.000000</td>\n",
       "      <td>3.000000</td>\n",
       "      <td>4.000000</td>\n",
       "    </tr>\n",
       "    <tr>\n",
       "      <th>max</th>\n",
       "      <td>1.200456e+07</td>\n",
       "      <td>5687.000000</td>\n",
       "      <td>134.900000</td>\n",
       "      <td>32909.000000</td>\n",
       "      <td>45436.000000</td>\n",
       "      <td>851064.000000</td>\n",
       "      <td>268394.000000</td>\n",
       "      <td>4097.000000</td>\n",
       "      <td>618.000000</td>\n",
       "      <td>9548.000000</td>\n",
       "      <td>1107.000000</td>\n",
       "      <td>59042.000000</td>\n",
       "    </tr>\n",
       "  </tbody>\n",
       "</table>\n",
       "</div>"
      ],
      "text/plain": [
       "                 Id  AboutMe_length  activity_in_months        UpVotes  \\\n",
       "count  1.121470e+05    72567.000000       112147.000000  112147.000000   \n",
       "mean   5.254029e+06      103.525253           33.385235      53.412922   \n",
       "std    3.493744e+06      240.822091           35.728919     366.203056   \n",
       "min    3.200000e+01        0.000000            0.000000       0.000000   \n",
       "25%    2.039419e+06        0.000000            2.400000       0.000000   \n",
       "50%    4.943085e+06       22.000000           19.400000       0.000000   \n",
       "75%    8.321042e+06       99.000000           58.500000       4.000000   \n",
       "max    1.200456e+07     5687.000000          134.900000   32909.000000   \n",
       "\n",
       "           DownVotes     Reputation          Views         badges  \\\n",
       "count  112147.000000  112147.000000  112147.000000  112147.000000   \n",
       "mean        6.046020     544.607034      65.527540       8.762972   \n",
       "std       193.574696    6673.717768    1258.866708      34.372489   \n",
       "min         0.000000       1.000000       0.000000       0.000000   \n",
       "25%         0.000000       1.000000       0.000000       0.000000   \n",
       "50%         0.000000       1.000000       2.000000       2.000000   \n",
       "75%         0.000000      57.000000      13.000000       6.000000   \n",
       "max     45436.000000  851064.000000  268394.000000    4097.000000   \n",
       "\n",
       "         Q_comments    A_comments   P_questions     P_answers  \n",
       "count  29880.000000  29880.000000  83111.000000  82712.000000  \n",
       "mean       7.093273     14.362483      5.081337     15.440577  \n",
       "std       21.792996    120.308331     20.267219    255.790089  \n",
       "min        0.000000      0.000000      0.000000      0.000000  \n",
       "25%        0.000000      0.000000      0.000000      0.000000  \n",
       "50%        2.000000      1.000000      1.000000      1.000000  \n",
       "75%        6.000000      4.000000      3.000000      4.000000  \n",
       "max      618.000000   9548.000000   1107.000000  59042.000000  "
      ]
     },
     "execution_count": 13,
     "metadata": {},
     "output_type": "execute_result"
    }
   ],
   "source": [
    "# displaying a descriptive stats regarding the training dataframe \n",
    "df_train.describe()"
   ]
  },
  {
   "cell_type": "code",
   "execution_count": 14,
   "metadata": {},
   "outputs": [
    {
     "data": {
      "text/html": [
       "<div>\n",
       "<style scoped>\n",
       "    .dataframe tbody tr th:only-of-type {\n",
       "        vertical-align: middle;\n",
       "    }\n",
       "\n",
       "    .dataframe tbody tr th {\n",
       "        vertical-align: top;\n",
       "    }\n",
       "\n",
       "    .dataframe thead th {\n",
       "        text-align: right;\n",
       "    }\n",
       "</style>\n",
       "<table border=\"1\" class=\"dataframe\">\n",
       "  <thead>\n",
       "    <tr style=\"text-align: right;\">\n",
       "      <th></th>\n",
       "      <th>Id</th>\n",
       "      <th>country</th>\n",
       "      <th>AboutMe_length</th>\n",
       "      <th>activity_in_months</th>\n",
       "      <th>UpVotes</th>\n",
       "      <th>DownVotes</th>\n",
       "      <th>Reputation</th>\n",
       "      <th>Views</th>\n",
       "      <th>badges</th>\n",
       "      <th>Q_comments</th>\n",
       "      <th>A_comments</th>\n",
       "      <th>P_questions</th>\n",
       "      <th>P_answers</th>\n",
       "    </tr>\n",
       "  </thead>\n",
       "  <tbody>\n",
       "    <tr>\n",
       "      <th>36852</th>\n",
       "      <td>1749828</td>\n",
       "      <td>usa</td>\n",
       "      <td>73.0</td>\n",
       "      <td>13.7</td>\n",
       "      <td>0</td>\n",
       "      <td>0</td>\n",
       "      <td>1</td>\n",
       "      <td>6</td>\n",
       "      <td>1</td>\n",
       "      <td>NaN</td>\n",
       "      <td>NaN</td>\n",
       "      <td>0.0</td>\n",
       "      <td>0.0</td>\n",
       "    </tr>\n",
       "    <tr>\n",
       "      <th>582</th>\n",
       "      <td>8938873</td>\n",
       "      <td>usa</td>\n",
       "      <td>546.0</td>\n",
       "      <td>0.0</td>\n",
       "      <td>0</td>\n",
       "      <td>0</td>\n",
       "      <td>1</td>\n",
       "      <td>0</td>\n",
       "      <td>1</td>\n",
       "      <td>NaN</td>\n",
       "      <td>NaN</td>\n",
       "      <td>0.0</td>\n",
       "      <td>0.0</td>\n",
       "    </tr>\n",
       "    <tr>\n",
       "      <th>22587</th>\n",
       "      <td>9157667</td>\n",
       "      <td>usa</td>\n",
       "      <td>NaN</td>\n",
       "      <td>2.7</td>\n",
       "      <td>0</td>\n",
       "      <td>0</td>\n",
       "      <td>1</td>\n",
       "      <td>0</td>\n",
       "      <td>0</td>\n",
       "      <td>NaN</td>\n",
       "      <td>NaN</td>\n",
       "      <td>1.0</td>\n",
       "      <td>0.0</td>\n",
       "    </tr>\n",
       "    <tr>\n",
       "      <th>32320</th>\n",
       "      <td>3818420</td>\n",
       "      <td>usa</td>\n",
       "      <td>0.0</td>\n",
       "      <td>8.8</td>\n",
       "      <td>0</td>\n",
       "      <td>0</td>\n",
       "      <td>1</td>\n",
       "      <td>22</td>\n",
       "      <td>1</td>\n",
       "      <td>0.0</td>\n",
       "      <td>0.0</td>\n",
       "      <td>1.0</td>\n",
       "      <td>0.0</td>\n",
       "    </tr>\n",
       "    <tr>\n",
       "      <th>71939</th>\n",
       "      <td>2184400</td>\n",
       "      <td>usa</td>\n",
       "      <td>0.0</td>\n",
       "      <td>78.5</td>\n",
       "      <td>0</td>\n",
       "      <td>0</td>\n",
       "      <td>11</td>\n",
       "      <td>2</td>\n",
       "      <td>1</td>\n",
       "      <td>NaN</td>\n",
       "      <td>NaN</td>\n",
       "      <td>0.0</td>\n",
       "      <td>1.0</td>\n",
       "    </tr>\n",
       "  </tbody>\n",
       "</table>\n",
       "</div>"
      ],
      "text/plain": [
       "            Id country  AboutMe_length  activity_in_months  UpVotes  \\\n",
       "36852  1749828     usa            73.0                13.7        0   \n",
       "582    8938873     usa           546.0                 0.0        0   \n",
       "22587  9157667     usa             NaN                 2.7        0   \n",
       "32320  3818420     usa             0.0                 8.8        0   \n",
       "71939  2184400     usa             0.0                78.5        0   \n",
       "\n",
       "       DownVotes  Reputation  Views  badges  Q_comments  A_comments  \\\n",
       "36852          0           1      6       1         NaN         NaN   \n",
       "582            0           1      0       1         NaN         NaN   \n",
       "22587          0           1      0       0         NaN         NaN   \n",
       "32320          0           1     22       1         0.0         0.0   \n",
       "71939          0          11      2       1         NaN         NaN   \n",
       "\n",
       "       P_questions  P_answers  \n",
       "36852          0.0        0.0  \n",
       "582            0.0        0.0  \n",
       "22587          1.0        0.0  \n",
       "32320          1.0        0.0  \n",
       "71939          0.0        1.0  "
      ]
     },
     "execution_count": 14,
     "metadata": {},
     "output_type": "execute_result"
    }
   ],
   "source": [
    "# displaying a sample from the testing dataframe\n",
    "df_test.head()"
   ]
  },
  {
   "cell_type": "code",
   "execution_count": 15,
   "metadata": {},
   "outputs": [
    {
     "data": {
      "text/html": [
       "<div>\n",
       "<style scoped>\n",
       "    .dataframe tbody tr th:only-of-type {\n",
       "        vertical-align: middle;\n",
       "    }\n",
       "\n",
       "    .dataframe tbody tr th {\n",
       "        vertical-align: top;\n",
       "    }\n",
       "\n",
       "    .dataframe thead th {\n",
       "        text-align: right;\n",
       "    }\n",
       "</style>\n",
       "<table border=\"1\" class=\"dataframe\">\n",
       "  <thead>\n",
       "    <tr style=\"text-align: right;\">\n",
       "      <th></th>\n",
       "      <th>Id</th>\n",
       "      <th>AboutMe_length</th>\n",
       "      <th>activity_in_months</th>\n",
       "      <th>UpVotes</th>\n",
       "      <th>DownVotes</th>\n",
       "      <th>Reputation</th>\n",
       "      <th>Views</th>\n",
       "      <th>badges</th>\n",
       "      <th>Q_comments</th>\n",
       "      <th>A_comments</th>\n",
       "      <th>P_questions</th>\n",
       "      <th>P_answers</th>\n",
       "    </tr>\n",
       "  </thead>\n",
       "  <tbody>\n",
       "    <tr>\n",
       "      <th>count</th>\n",
       "      <td>2.803700e+04</td>\n",
       "      <td>18176.000000</td>\n",
       "      <td>28037.000000</td>\n",
       "      <td>28037.000000</td>\n",
       "      <td>28037.000000</td>\n",
       "      <td>28037.000000</td>\n",
       "      <td>28037.000000</td>\n",
       "      <td>28037.000000</td>\n",
       "      <td>7468.000000</td>\n",
       "      <td>7468.000000</td>\n",
       "      <td>20637.000000</td>\n",
       "      <td>20604.000000</td>\n",
       "    </tr>\n",
       "    <tr>\n",
       "      <th>mean</th>\n",
       "      <td>5.239790e+06</td>\n",
       "      <td>104.350627</td>\n",
       "      <td>33.369383</td>\n",
       "      <td>51.202340</td>\n",
       "      <td>5.761244</td>\n",
       "      <td>503.597639</td>\n",
       "      <td>59.034240</td>\n",
       "      <td>8.553305</td>\n",
       "      <td>7.094938</td>\n",
       "      <td>13.891269</td>\n",
       "      <td>5.120221</td>\n",
       "      <td>13.690400</td>\n",
       "    </tr>\n",
       "    <tr>\n",
       "      <th>std</th>\n",
       "      <td>3.504868e+06</td>\n",
       "      <td>241.465542</td>\n",
       "      <td>35.801144</td>\n",
       "      <td>308.907702</td>\n",
       "      <td>177.666834</td>\n",
       "      <td>6482.406408</td>\n",
       "      <td>1021.147483</td>\n",
       "      <td>36.564736</td>\n",
       "      <td>25.735985</td>\n",
       "      <td>128.498572</td>\n",
       "      <td>23.416790</td>\n",
       "      <td>143.631392</td>\n",
       "    </tr>\n",
       "    <tr>\n",
       "      <th>min</th>\n",
       "      <td>2.900000e+01</td>\n",
       "      <td>0.000000</td>\n",
       "      <td>0.000000</td>\n",
       "      <td>0.000000</td>\n",
       "      <td>0.000000</td>\n",
       "      <td>1.000000</td>\n",
       "      <td>0.000000</td>\n",
       "      <td>0.000000</td>\n",
       "      <td>0.000000</td>\n",
       "      <td>0.000000</td>\n",
       "      <td>0.000000</td>\n",
       "      <td>0.000000</td>\n",
       "    </tr>\n",
       "    <tr>\n",
       "      <th>25%</th>\n",
       "      <td>2.002042e+06</td>\n",
       "      <td>0.000000</td>\n",
       "      <td>2.400000</td>\n",
       "      <td>0.000000</td>\n",
       "      <td>0.000000</td>\n",
       "      <td>1.000000</td>\n",
       "      <td>0.000000</td>\n",
       "      <td>0.000000</td>\n",
       "      <td>0.000000</td>\n",
       "      <td>0.000000</td>\n",
       "      <td>0.000000</td>\n",
       "      <td>0.000000</td>\n",
       "    </tr>\n",
       "    <tr>\n",
       "      <th>50%</th>\n",
       "      <td>4.884387e+06</td>\n",
       "      <td>22.000000</td>\n",
       "      <td>19.200000</td>\n",
       "      <td>0.000000</td>\n",
       "      <td>0.000000</td>\n",
       "      <td>1.000000</td>\n",
       "      <td>2.000000</td>\n",
       "      <td>2.000000</td>\n",
       "      <td>2.000000</td>\n",
       "      <td>1.000000</td>\n",
       "      <td>1.000000</td>\n",
       "      <td>1.000000</td>\n",
       "    </tr>\n",
       "    <tr>\n",
       "      <th>75%</th>\n",
       "      <td>8.329836e+06</td>\n",
       "      <td>99.000000</td>\n",
       "      <td>58.700000</td>\n",
       "      <td>3.000000</td>\n",
       "      <td>0.000000</td>\n",
       "      <td>56.000000</td>\n",
       "      <td>13.000000</td>\n",
       "      <td>6.000000</td>\n",
       "      <td>5.250000</td>\n",
       "      <td>4.000000</td>\n",
       "      <td>3.000000</td>\n",
       "      <td>4.000000</td>\n",
       "    </tr>\n",
       "    <tr>\n",
       "      <th>max</th>\n",
       "      <td>1.200465e+07</td>\n",
       "      <td>5106.000000</td>\n",
       "      <td>134.900000</td>\n",
       "      <td>15748.000000</td>\n",
       "      <td>23492.000000</td>\n",
       "      <td>714584.000000</td>\n",
       "      <td>146079.000000</td>\n",
       "      <td>3639.000000</td>\n",
       "      <td>921.000000</td>\n",
       "      <td>8302.000000</td>\n",
       "      <td>1686.000000</td>\n",
       "      <td>15119.000000</td>\n",
       "    </tr>\n",
       "  </tbody>\n",
       "</table>\n",
       "</div>"
      ],
      "text/plain": [
       "                 Id  AboutMe_length  activity_in_months       UpVotes  \\\n",
       "count  2.803700e+04    18176.000000        28037.000000  28037.000000   \n",
       "mean   5.239790e+06      104.350627           33.369383     51.202340   \n",
       "std    3.504868e+06      241.465542           35.801144    308.907702   \n",
       "min    2.900000e+01        0.000000            0.000000      0.000000   \n",
       "25%    2.002042e+06        0.000000            2.400000      0.000000   \n",
       "50%    4.884387e+06       22.000000           19.200000      0.000000   \n",
       "75%    8.329836e+06       99.000000           58.700000      3.000000   \n",
       "max    1.200465e+07     5106.000000          134.900000  15748.000000   \n",
       "\n",
       "          DownVotes     Reputation          Views        badges   Q_comments  \\\n",
       "count  28037.000000   28037.000000   28037.000000  28037.000000  7468.000000   \n",
       "mean       5.761244     503.597639      59.034240      8.553305     7.094938   \n",
       "std      177.666834    6482.406408    1021.147483     36.564736    25.735985   \n",
       "min        0.000000       1.000000       0.000000      0.000000     0.000000   \n",
       "25%        0.000000       1.000000       0.000000      0.000000     0.000000   \n",
       "50%        0.000000       1.000000       2.000000      2.000000     2.000000   \n",
       "75%        0.000000      56.000000      13.000000      6.000000     5.250000   \n",
       "max    23492.000000  714584.000000  146079.000000   3639.000000   921.000000   \n",
       "\n",
       "        A_comments   P_questions     P_answers  \n",
       "count  7468.000000  20637.000000  20604.000000  \n",
       "mean     13.891269      5.120221     13.690400  \n",
       "std     128.498572     23.416790    143.631392  \n",
       "min       0.000000      0.000000      0.000000  \n",
       "25%       0.000000      0.000000      0.000000  \n",
       "50%       1.000000      1.000000      1.000000  \n",
       "75%       4.000000      3.000000      4.000000  \n",
       "max    8302.000000   1686.000000  15119.000000  "
      ]
     },
     "execution_count": 15,
     "metadata": {},
     "output_type": "execute_result"
    }
   ],
   "source": [
    "# displaying a descriptive stats regarding the testing dataframe\n",
    "df_test.describe()"
   ]
  },
  {
   "cell_type": "markdown",
   "metadata": {},
   "source": [
    "## Distribution of target variables (Questions and Answers)"
   ]
  },
  {
   "cell_type": "code",
   "execution_count": 16,
   "metadata": {},
   "outputs": [],
   "source": [
    "## optimising plots size\n",
    "# data = np.random.normal(0, 1, 3)\n",
    "# array([-1.18878589,  0.59627021,  1.59895721])\n",
    "# ploty = plt.figure(figsize=(20, 15))\n",
    "# sns.boxplot(x=data);"
   ]
  },
  {
   "cell_type": "code",
   "execution_count": 17,
   "metadata": {},
   "outputs": [
    {
     "name": "stdout",
     "output_type": "stream",
     "text": [
      "----------------------------------------------------------------------------------------------------\n",
      "----------------------------------------------------------------------------------------------------\n",
      "Skewness: 17.043771\n",
      "Kurtosis: 523.860595\n",
      "----------------------------------------------------------------------------------------------------\n",
      "----------------------------------------------------------------------------------------------------\n"
     ]
    },
    {
     "data": {
      "image/png": "[encoded data removed]",
      "text/plain": [
       "<Figure size 1440x1080 with 1 Axes>"
      ]
     },
     "metadata": {
      "needs_background": "light"
     },
     "output_type": "display_data"
    }
   ],
   "source": [
    "# ~ conversion error prevention **\n",
    "# df_train = df_train.fillna(0)\n",
    "# Seaborn 0_0\n",
    "print('-'*100)\n",
    "print('-'*100)\n",
    "plt.figure(figsize=(20, 15))\n",
    "sns.distplot(df_train['P_questions'].dropna());\n",
    "# skewness and Kurtosis\n",
    "print(\"Skewness: %f\" % df_train['P_questions'].skew());\n",
    "print(\"Kurtosis: %f\" % df_train['P_questions'].kurt());\n",
    "print('-'*100)\n",
    "print('-'*100)\n",
    "# ValueError: cannot convert float NaN to integer --- Error --- convertion is required ---> utilising fillna in early phase"
   ]
  },
  {
   "cell_type": "code",
   "execution_count": 18,
   "metadata": {
    "scrolled": false
   },
   "outputs": [
    {
     "name": "stdout",
     "output_type": "stream",
     "text": [
      "----------------------------------------------------------------------------------------------------\n",
      "----------------------------------------------------------------------------------------------------\n",
      "Skewness: 162.535179\n",
      "Kurtosis: 35164.020362\n",
      "----------------------------------------------------------------------------------------------------\n",
      "----------------------------------------------------------------------------------------------------\n"
     ]
    },
    {
     "data": {
      "image/png": "[encoded data removed]",
      "text/plain": [
       "<Figure size 1440x1080 with 1 Axes>"
      ]
     },
     "metadata": {
      "needs_background": "light"
     },
     "output_type": "display_data"
    }
   ],
   "source": [
    "print('-'*100)\n",
    "print('-'*100)\n",
    "plt.figure(figsize=(20, 15))\n",
    "sns.distplot(df_train['P_answers'].dropna());\n",
    "# skewness and Kurtosis\n",
    "print(\"Skewness: %f\" % df_train['P_answers'].skew());\n",
    "print(\"Kurtosis: %f\" % df_train['P_answers'].kurt());\n",
    "print('-'*100)\n",
    "print('-'*100)"
   ]
  },
  {
   "cell_type": "markdown",
   "metadata": {},
   "source": [
    "* As we can see, the target variable for both questions and answers is not normally distributed. \n",
    "* This behaviour can leads to performance reduction in the ML regression modeling due the fact that some models assume normal distribution.\n",
    "* Therfore a log transformation is required(see sklearn info on preprocessing) to enhance distribution visualisation.\n",
    "* Before running log transformation, we need to deal with missing data in questions and answers otherwise will face the error due to zero division which will produce -1nf (minus infinity)"
   ]
  },
  {
   "cell_type": "code",
   "execution_count": 19,
   "metadata": {},
   "outputs": [
    {
     "name": "stderr",
     "output_type": "stream",
     "text": [
      "C:\\Users\\alamo248\\AppData\\Local\\Continuum\\anaconda3\\lib\\site-packages\\ipykernel_launcher.py:2: SettingWithCopyWarning: \n",
      "A value is trying to be set on a copy of a slice from a DataFrame.\n",
      "Try using .loc[row_indexer,col_indexer] = value instead\n",
      "\n",
      "See the caveats in the documentation: http://pandas.pydata.org/pandas-docs/stable/indexing.html#indexing-view-versus-copy\n",
      "  \n",
      "C:\\Users\\alamo248\\AppData\\Local\\Continuum\\anaconda3\\lib\\site-packages\\ipykernel_launcher.py:3: SettingWithCopyWarning: \n",
      "A value is trying to be set on a copy of a slice from a DataFrame.\n",
      "Try using .loc[row_indexer,col_indexer] = value instead\n",
      "\n",
      "See the caveats in the documentation: http://pandas.pydata.org/pandas-docs/stable/indexing.html#indexing-view-versus-copy\n",
      "  This is separate from the ipykernel package so we can avoid doing imports until\n"
     ]
    }
   ],
   "source": [
    "np.seterr(divide = 'ignore')\n",
    "df_train['Questions_log'] = np.where(df_train.loc[:,['P_questions']]>0, np.log(df_train.loc[:,['P_questions']]), 0)\n",
    "df_train['Answers_log'] = np.where(df_train.loc[:,['P_answers']]>0, np.log(df_train.loc[:,['P_answers']]), 0)\n",
    "\n",
    "\n",
    "# # alternative implementation to avoids warnings.\n",
    "# loc = np.where(myarray>0)\n",
    "# result2 = np.zeros_like(myarray, dtype=float)\n",
    "# result2[loc] =np.log(myarray[loc])\n",
    "\n",
    "# # answer\n",
    "# myarray= np.random.randint(10,size=10)\n",
    "# result = np.where(myarray>0, np.log(myarray), 0)\n",
    "\n",
    "# # check it is giving right solution:\n",
    "# print(np.allclose(result, result2))\n",
    "\n",
    "# append columns\n",
    "# df_train = pd.concat([df_train, Questions_log], axis=1)"
   ]
  },
  {
   "cell_type": "code",
   "execution_count": 20,
   "metadata": {},
   "outputs": [
    {
     "data": {
      "text/html": [
       "<div>\n",
       "<style scoped>\n",
       "    .dataframe tbody tr th:only-of-type {\n",
       "        vertical-align: middle;\n",
       "    }\n",
       "\n",
       "    .dataframe tbody tr th {\n",
       "        vertical-align: top;\n",
       "    }\n",
       "\n",
       "    .dataframe thead th {\n",
       "        text-align: right;\n",
       "    }\n",
       "</style>\n",
       "<table border=\"1\" class=\"dataframe\">\n",
       "  <thead>\n",
       "    <tr style=\"text-align: right;\">\n",
       "      <th></th>\n",
       "      <th>Id</th>\n",
       "      <th>country</th>\n",
       "      <th>AboutMe_length</th>\n",
       "      <th>activity_in_months</th>\n",
       "      <th>UpVotes</th>\n",
       "      <th>DownVotes</th>\n",
       "      <th>Reputation</th>\n",
       "      <th>Views</th>\n",
       "      <th>badges</th>\n",
       "      <th>Q_comments</th>\n",
       "      <th>A_comments</th>\n",
       "      <th>P_questions</th>\n",
       "      <th>P_answers</th>\n",
       "      <th>Questions_log</th>\n",
       "      <th>Answers_log</th>\n",
       "    </tr>\n",
       "  </thead>\n",
       "  <tbody>\n",
       "    <tr>\n",
       "      <th>8441</th>\n",
       "      <td>6406742</td>\n",
       "      <td>usa</td>\n",
       "      <td>0.0</td>\n",
       "      <td>0.0</td>\n",
       "      <td>0</td>\n",
       "      <td>0</td>\n",
       "      <td>1</td>\n",
       "      <td>0</td>\n",
       "      <td>0</td>\n",
       "      <td>NaN</td>\n",
       "      <td>NaN</td>\n",
       "      <td>0.0</td>\n",
       "      <td>0.0</td>\n",
       "      <td>0.000000</td>\n",
       "      <td>0.000000</td>\n",
       "    </tr>\n",
       "    <tr>\n",
       "      <th>71219</th>\n",
       "      <td>402309</td>\n",
       "      <td>usa</td>\n",
       "      <td>65.0</td>\n",
       "      <td>76.8</td>\n",
       "      <td>12</td>\n",
       "      <td>0</td>\n",
       "      <td>71</td>\n",
       "      <td>54</td>\n",
       "      <td>11</td>\n",
       "      <td>6.0</td>\n",
       "      <td>3.0</td>\n",
       "      <td>12.0</td>\n",
       "      <td>3.0</td>\n",
       "      <td>2.484907</td>\n",
       "      <td>1.098612</td>\n",
       "    </tr>\n",
       "    <tr>\n",
       "      <th>91713</th>\n",
       "      <td>8745370</td>\n",
       "      <td>china</td>\n",
       "      <td>NaN</td>\n",
       "      <td>2.6</td>\n",
       "      <td>0</td>\n",
       "      <td>0</td>\n",
       "      <td>1</td>\n",
       "      <td>0</td>\n",
       "      <td>1</td>\n",
       "      <td>NaN</td>\n",
       "      <td>NaN</td>\n",
       "      <td>NaN</td>\n",
       "      <td>NaN</td>\n",
       "      <td>0.000000</td>\n",
       "      <td>0.000000</td>\n",
       "    </tr>\n",
       "    <tr>\n",
       "      <th>15695</th>\n",
       "      <td>8980446</td>\n",
       "      <td>usa</td>\n",
       "      <td>NaN</td>\n",
       "      <td>0.8</td>\n",
       "      <td>0</td>\n",
       "      <td>0</td>\n",
       "      <td>1</td>\n",
       "      <td>0</td>\n",
       "      <td>1</td>\n",
       "      <td>NaN</td>\n",
       "      <td>NaN</td>\n",
       "      <td>0.0</td>\n",
       "      <td>0.0</td>\n",
       "      <td>0.000000</td>\n",
       "      <td>0.000000</td>\n",
       "    </tr>\n",
       "    <tr>\n",
       "      <th>72968</th>\n",
       "      <td>974502</td>\n",
       "      <td>usa</td>\n",
       "      <td>0.0</td>\n",
       "      <td>80.9</td>\n",
       "      <td>7</td>\n",
       "      <td>0</td>\n",
       "      <td>333</td>\n",
       "      <td>13</td>\n",
       "      <td>6</td>\n",
       "      <td>NaN</td>\n",
       "      <td>NaN</td>\n",
       "      <td>0.0</td>\n",
       "      <td>17.0</td>\n",
       "      <td>0.000000</td>\n",
       "      <td>2.833213</td>\n",
       "    </tr>\n",
       "  </tbody>\n",
       "</table>\n",
       "</div>"
      ],
      "text/plain": [
       "            Id country  AboutMe_length  activity_in_months  UpVotes  \\\n",
       "8441   6406742     usa             0.0                 0.0        0   \n",
       "71219   402309     usa            65.0                76.8       12   \n",
       "91713  8745370   china             NaN                 2.6        0   \n",
       "15695  8980446     usa             NaN                 0.8        0   \n",
       "72968   974502     usa             0.0                80.9        7   \n",
       "\n",
       "       DownVotes  Reputation  Views  badges  Q_comments  A_comments  \\\n",
       "8441           0           1      0       0         NaN         NaN   \n",
       "71219          0          71     54      11         6.0         3.0   \n",
       "91713          0           1      0       1         NaN         NaN   \n",
       "15695          0           1      0       1         NaN         NaN   \n",
       "72968          0         333     13       6         NaN         NaN   \n",
       "\n",
       "       P_questions  P_answers  Questions_log  Answers_log  \n",
       "8441           0.0        0.0       0.000000     0.000000  \n",
       "71219         12.0        3.0       2.484907     1.098612  \n",
       "91713          NaN        NaN       0.000000     0.000000  \n",
       "15695          0.0        0.0       0.000000     0.000000  \n",
       "72968          0.0       17.0       0.000000     2.833213  "
      ]
     },
     "execution_count": 20,
     "metadata": {},
     "output_type": "execute_result"
    }
   ],
   "source": [
    "df_train.head()"
   ]
  },
  {
   "cell_type": "code",
   "execution_count": 21,
   "metadata": {},
   "outputs": [
    {
     "name": "stdout",
     "output_type": "stream",
     "text": [
      "----------------------------------------------------------------------------------------------------\n"
     ]
    },
    {
     "data": {
      "image/png": "[encoded data removed]",
      "text/plain": [
       "<Figure size 432x288 with 1 Axes>"
      ]
     },
     "metadata": {
      "needs_background": "light"
     },
     "output_type": "display_data"
    }
   ],
   "source": [
    "sns.distplot(df_train['Questions_log'].dropna());\n",
    "print('-'*100)"
   ]
  },
  {
   "cell_type": "code",
   "execution_count": 22,
   "metadata": {},
   "outputs": [
    {
     "name": "stdout",
     "output_type": "stream",
     "text": [
      "----------------------------------------------------------------------------------------------------\n"
     ]
    },
    {
     "data": {
      "image/png": "[encoded data removed]",
      "text/plain": [
       "<Figure size 432x288 with 1 Axes>"
      ]
     },
     "metadata": {
      "needs_background": "light"
     },
     "output_type": "display_data"
    }
   ],
   "source": [
    "sns.distplot(df_train['Answers_log'].dropna());\n",
    "print('-'*100)"
   ]
  },
  {
   "cell_type": "code",
   "execution_count": 23,
   "metadata": {},
   "outputs": [
    {
     "name": "stdout",
     "output_type": "stream",
     "text": [
      "----------------------------------------------------------------------------------------------------\n",
      "Skewness and kurtosis for questions log\n",
      "Skewness: 2.164993\n",
      "Kurtosis: 4.456871\n",
      "----------------------------------------------------------------------------------------------------\n"
     ]
    }
   ],
   "source": [
    "print(\"-\"*100)\n",
    "print(\"Skewness and kurtosis for questions log\")\n",
    "print(\"Skewness: %f\" % df_train['Questions_log'].skew());\n",
    "print(\"Kurtosis: %f\" % df_train['Questions_log'].kurt());\n",
    "print(\"-\"*100)"
   ]
  },
  {
   "cell_type": "code",
   "execution_count": 24,
   "metadata": {},
   "outputs": [
    {
     "name": "stdout",
     "output_type": "stream",
     "text": [
      "----------------------------------------------------------------------------------------------------\n",
      "Skewness and kurtosis for answers log\n",
      "Skewness: 2.261994\n",
      "Kurtosis: 4.456871\n",
      "----------------------------------------------------------------------------------------------------\n"
     ]
    }
   ],
   "source": [
    "print(\"-\"*100)\n",
    "print(\"Skewness and kurtosis for answers log\")\n",
    "print(\"Skewness: %f\" % df_train['Answers_log'].skew());\n",
    "print(\"Kurtosis: %f\" % df_train['Questions_log'].kurt());\n",
    "print(\"-\"*100)"
   ]
  },
  {
   "cell_type": "code",
   "execution_count": 25,
   "metadata": {},
   "outputs": [
    {
     "name": "stdout",
     "output_type": "stream",
     "text": [
      "Dropping old features from the loaded dataframe\n"
     ]
    },
    {
     "name": "stderr",
     "output_type": "stream",
     "text": [
      "C:\\Users\\alamo248\\AppData\\Local\\Continuum\\anaconda3\\lib\\site-packages\\pandas\\core\\frame.py:3940: SettingWithCopyWarning: \n",
      "A value is trying to be set on a copy of a slice from a DataFrame\n",
      "\n",
      "See the caveats in the documentation: http://pandas.pydata.org/pandas-docs/stable/indexing.html#indexing-view-versus-copy\n",
      "  errors=errors)\n"
     ]
    }
   ],
   "source": [
    "print(\"Dropping old features from the loaded dataframe\")\n",
    "df_train.drop(\"P_questions\",axis=1,inplace=True);\n",
    "df_train.drop(\"P_answers\",axis=1,inplace=True);"
   ]
  },
  {
   "cell_type": "code",
   "execution_count": 26,
   "metadata": {},
   "outputs": [
    {
     "data": {
      "text/html": [
       "<div>\n",
       "<style scoped>\n",
       "    .dataframe tbody tr th:only-of-type {\n",
       "        vertical-align: middle;\n",
       "    }\n",
       "\n",
       "    .dataframe tbody tr th {\n",
       "        vertical-align: top;\n",
       "    }\n",
       "\n",
       "    .dataframe thead th {\n",
       "        text-align: right;\n",
       "    }\n",
       "</style>\n",
       "<table border=\"1\" class=\"dataframe\">\n",
       "  <thead>\n",
       "    <tr style=\"text-align: right;\">\n",
       "      <th></th>\n",
       "      <th>Id</th>\n",
       "      <th>country</th>\n",
       "      <th>AboutMe_length</th>\n",
       "      <th>activity_in_months</th>\n",
       "      <th>UpVotes</th>\n",
       "      <th>DownVotes</th>\n",
       "      <th>Reputation</th>\n",
       "      <th>Views</th>\n",
       "      <th>badges</th>\n",
       "      <th>Q_comments</th>\n",
       "      <th>A_comments</th>\n",
       "      <th>Questions_log</th>\n",
       "      <th>Answers_log</th>\n",
       "    </tr>\n",
       "  </thead>\n",
       "  <tbody>\n",
       "    <tr>\n",
       "      <th>8441</th>\n",
       "      <td>6406742</td>\n",
       "      <td>usa</td>\n",
       "      <td>0.0</td>\n",
       "      <td>0.0</td>\n",
       "      <td>0</td>\n",
       "      <td>0</td>\n",
       "      <td>1</td>\n",
       "      <td>0</td>\n",
       "      <td>0</td>\n",
       "      <td>NaN</td>\n",
       "      <td>NaN</td>\n",
       "      <td>0.000000</td>\n",
       "      <td>0.000000</td>\n",
       "    </tr>\n",
       "    <tr>\n",
       "      <th>71219</th>\n",
       "      <td>402309</td>\n",
       "      <td>usa</td>\n",
       "      <td>65.0</td>\n",
       "      <td>76.8</td>\n",
       "      <td>12</td>\n",
       "      <td>0</td>\n",
       "      <td>71</td>\n",
       "      <td>54</td>\n",
       "      <td>11</td>\n",
       "      <td>6.0</td>\n",
       "      <td>3.0</td>\n",
       "      <td>2.484907</td>\n",
       "      <td>1.098612</td>\n",
       "    </tr>\n",
       "    <tr>\n",
       "      <th>91713</th>\n",
       "      <td>8745370</td>\n",
       "      <td>china</td>\n",
       "      <td>NaN</td>\n",
       "      <td>2.6</td>\n",
       "      <td>0</td>\n",
       "      <td>0</td>\n",
       "      <td>1</td>\n",
       "      <td>0</td>\n",
       "      <td>1</td>\n",
       "      <td>NaN</td>\n",
       "      <td>NaN</td>\n",
       "      <td>0.000000</td>\n",
       "      <td>0.000000</td>\n",
       "    </tr>\n",
       "    <tr>\n",
       "      <th>15695</th>\n",
       "      <td>8980446</td>\n",
       "      <td>usa</td>\n",
       "      <td>NaN</td>\n",
       "      <td>0.8</td>\n",
       "      <td>0</td>\n",
       "      <td>0</td>\n",
       "      <td>1</td>\n",
       "      <td>0</td>\n",
       "      <td>1</td>\n",
       "      <td>NaN</td>\n",
       "      <td>NaN</td>\n",
       "      <td>0.000000</td>\n",
       "      <td>0.000000</td>\n",
       "    </tr>\n",
       "    <tr>\n",
       "      <th>72968</th>\n",
       "      <td>974502</td>\n",
       "      <td>usa</td>\n",
       "      <td>0.0</td>\n",
       "      <td>80.9</td>\n",
       "      <td>7</td>\n",
       "      <td>0</td>\n",
       "      <td>333</td>\n",
       "      <td>13</td>\n",
       "      <td>6</td>\n",
       "      <td>NaN</td>\n",
       "      <td>NaN</td>\n",
       "      <td>0.000000</td>\n",
       "      <td>2.833213</td>\n",
       "    </tr>\n",
       "  </tbody>\n",
       "</table>\n",
       "</div>"
      ],
      "text/plain": [
       "            Id country  AboutMe_length  activity_in_months  UpVotes  \\\n",
       "8441   6406742     usa             0.0                 0.0        0   \n",
       "71219   402309     usa            65.0                76.8       12   \n",
       "91713  8745370   china             NaN                 2.6        0   \n",
       "15695  8980446     usa             NaN                 0.8        0   \n",
       "72968   974502     usa             0.0                80.9        7   \n",
       "\n",
       "       DownVotes  Reputation  Views  badges  Q_comments  A_comments  \\\n",
       "8441           0           1      0       0         NaN         NaN   \n",
       "71219          0          71     54      11         6.0         3.0   \n",
       "91713          0           1      0       1         NaN         NaN   \n",
       "15695          0           1      0       1         NaN         NaN   \n",
       "72968          0         333     13       6         NaN         NaN   \n",
       "\n",
       "       Questions_log  Answers_log  \n",
       "8441        0.000000     0.000000  \n",
       "71219       2.484907     1.098612  \n",
       "91713       0.000000     0.000000  \n",
       "15695       0.000000     0.000000  \n",
       "72968       0.000000     2.833213  "
      ]
     },
     "execution_count": 26,
     "metadata": {},
     "output_type": "execute_result"
    }
   ],
   "source": [
    "df_train.head()"
   ]
  },
  {
   "cell_type": "code",
   "execution_count": 27,
   "metadata": {},
   "outputs": [
    {
     "name": "stdout",
     "output_type": "stream",
     "text": [
      "----------------------------------------------------------------------------------------------------\n",
      "Counting numerical and categorical features exist in the dataframe\n",
      "----------------------------------------------------------------------------------------------------\n",
      "Number of numerical features:  12\n",
      "Number of categorical features:  1\n",
      "----------------------------------------------------------------------------------------------------\n"
     ]
    }
   ],
   "source": [
    "print(\"-\"*100)\n",
    "print(\"Counting numerical and categorical features exist in the dataframe\")\n",
    "print(\"-\"*100)\n",
    "numerical_feats = df_train.dtypes[df_train.dtypes != \"object\"].index\n",
    "print(\"Number of numerical features: \", len(numerical_feats));\n",
    "categorical_feats = df_train.dtypes[df_train.dtypes == \"object\"].index\n",
    "print(\"Number of categorical features: \", len(categorical_feats));\n",
    "print(\"-\"*100)"
   ]
  },
  {
   "cell_type": "code",
   "execution_count": 28,
   "metadata": {},
   "outputs": [
    {
     "name": "stdout",
     "output_type": "stream",
     "text": [
      "-----------------------------------\n",
      "Displaying numerical features\n",
      "-----------------------------------\n",
      "Index(['Id', 'AboutMe_length', 'activity_in_months', 'UpVotes', 'DownVotes',\n",
      "       'Reputation', 'Views', 'badges', 'Q_comments', 'A_comments',\n",
      "       'Questions_log', 'Answers_log'],\n",
      "      dtype='object')\n",
      "-----------------------------------\n",
      "Displaying categorical features\n",
      "-----------------------------------\n",
      "Index(['country'], dtype='object')\n"
     ]
    }
   ],
   "source": [
    "print(\"-\"*35)\n",
    "print(\"Displaying numerical features\")\n",
    "print(\"-\"*35)\n",
    "print(df_train[numerical_feats].columns)\n",
    "print(\"-\"*35)\n",
    "print(\"Displaying categorical features\")\n",
    "print(\"-\"*35)\n",
    "print(df_train[categorical_feats].columns)"
   ]
  },
  {
   "cell_type": "code",
   "execution_count": 29,
   "metadata": {},
   "outputs": [
    {
     "name": "stdout",
     "output_type": "stream",
     "text": [
      "----------------------------------------\n",
      "Displaying numerical features dataframe\n",
      "----------------------------------------\n"
     ]
    },
    {
     "data": {
      "text/html": [
       "<div>\n",
       "<style scoped>\n",
       "    .dataframe tbody tr th:only-of-type {\n",
       "        vertical-align: middle;\n",
       "    }\n",
       "\n",
       "    .dataframe tbody tr th {\n",
       "        vertical-align: top;\n",
       "    }\n",
       "\n",
       "    .dataframe thead th {\n",
       "        text-align: right;\n",
       "    }\n",
       "</style>\n",
       "<table border=\"1\" class=\"dataframe\">\n",
       "  <thead>\n",
       "    <tr style=\"text-align: right;\">\n",
       "      <th></th>\n",
       "      <th>Id</th>\n",
       "      <th>AboutMe_length</th>\n",
       "      <th>activity_in_months</th>\n",
       "      <th>UpVotes</th>\n",
       "      <th>DownVotes</th>\n",
       "      <th>Reputation</th>\n",
       "      <th>Views</th>\n",
       "      <th>badges</th>\n",
       "      <th>Q_comments</th>\n",
       "      <th>A_comments</th>\n",
       "      <th>Questions_log</th>\n",
       "      <th>Answers_log</th>\n",
       "    </tr>\n",
       "  </thead>\n",
       "  <tbody>\n",
       "    <tr>\n",
       "      <th>8441</th>\n",
       "      <td>6406742</td>\n",
       "      <td>0.0</td>\n",
       "      <td>0.0</td>\n",
       "      <td>0</td>\n",
       "      <td>0</td>\n",
       "      <td>1</td>\n",
       "      <td>0</td>\n",
       "      <td>0</td>\n",
       "      <td>NaN</td>\n",
       "      <td>NaN</td>\n",
       "      <td>0.000000</td>\n",
       "      <td>0.000000</td>\n",
       "    </tr>\n",
       "    <tr>\n",
       "      <th>71219</th>\n",
       "      <td>402309</td>\n",
       "      <td>65.0</td>\n",
       "      <td>76.8</td>\n",
       "      <td>12</td>\n",
       "      <td>0</td>\n",
       "      <td>71</td>\n",
       "      <td>54</td>\n",
       "      <td>11</td>\n",
       "      <td>6.0</td>\n",
       "      <td>3.0</td>\n",
       "      <td>2.484907</td>\n",
       "      <td>1.098612</td>\n",
       "    </tr>\n",
       "    <tr>\n",
       "      <th>91713</th>\n",
       "      <td>8745370</td>\n",
       "      <td>NaN</td>\n",
       "      <td>2.6</td>\n",
       "      <td>0</td>\n",
       "      <td>0</td>\n",
       "      <td>1</td>\n",
       "      <td>0</td>\n",
       "      <td>1</td>\n",
       "      <td>NaN</td>\n",
       "      <td>NaN</td>\n",
       "      <td>0.000000</td>\n",
       "      <td>0.000000</td>\n",
       "    </tr>\n",
       "    <tr>\n",
       "      <th>15695</th>\n",
       "      <td>8980446</td>\n",
       "      <td>NaN</td>\n",
       "      <td>0.8</td>\n",
       "      <td>0</td>\n",
       "      <td>0</td>\n",
       "      <td>1</td>\n",
       "      <td>0</td>\n",
       "      <td>1</td>\n",
       "      <td>NaN</td>\n",
       "      <td>NaN</td>\n",
       "      <td>0.000000</td>\n",
       "      <td>0.000000</td>\n",
       "    </tr>\n",
       "    <tr>\n",
       "      <th>72968</th>\n",
       "      <td>974502</td>\n",
       "      <td>0.0</td>\n",
       "      <td>80.9</td>\n",
       "      <td>7</td>\n",
       "      <td>0</td>\n",
       "      <td>333</td>\n",
       "      <td>13</td>\n",
       "      <td>6</td>\n",
       "      <td>NaN</td>\n",
       "      <td>NaN</td>\n",
       "      <td>0.000000</td>\n",
       "      <td>2.833213</td>\n",
       "    </tr>\n",
       "  </tbody>\n",
       "</table>\n",
       "</div>"
      ],
      "text/plain": [
       "            Id  AboutMe_length  activity_in_months  UpVotes  DownVotes  \\\n",
       "8441   6406742             0.0                 0.0        0          0   \n",
       "71219   402309            65.0                76.8       12          0   \n",
       "91713  8745370             NaN                 2.6        0          0   \n",
       "15695  8980446             NaN                 0.8        0          0   \n",
       "72968   974502             0.0                80.9        7          0   \n",
       "\n",
       "       Reputation  Views  badges  Q_comments  A_comments  Questions_log  \\\n",
       "8441            1      0       0         NaN         NaN       0.000000   \n",
       "71219          71     54      11         6.0         3.0       2.484907   \n",
       "91713           1      0       1         NaN         NaN       0.000000   \n",
       "15695           1      0       1         NaN         NaN       0.000000   \n",
       "72968         333     13       6         NaN         NaN       0.000000   \n",
       "\n",
       "       Answers_log  \n",
       "8441      0.000000  \n",
       "71219     1.098612  \n",
       "91713     0.000000  \n",
       "15695     0.000000  \n",
       "72968     2.833213  "
      ]
     },
     "execution_count": 29,
     "metadata": {},
     "output_type": "execute_result"
    }
   ],
   "source": [
    "print(\"-\"*40)\n",
    "print(\"Displaying numerical features dataframe\")\n",
    "print(\"-\"*40)\n",
    "df_train[numerical_feats].head()"
   ]
  },
  {
   "cell_type": "code",
   "execution_count": 30,
   "metadata": {},
   "outputs": [
    {
     "name": "stdout",
     "output_type": "stream",
     "text": [
      "----------------------------------------\n",
      "Displaying categorical features\n",
      "----------------------------------------\n"
     ]
    },
    {
     "data": {
      "text/html": [
       "<div>\n",
       "<style scoped>\n",
       "    .dataframe tbody tr th:only-of-type {\n",
       "        vertical-align: middle;\n",
       "    }\n",
       "\n",
       "    .dataframe tbody tr th {\n",
       "        vertical-align: top;\n",
       "    }\n",
       "\n",
       "    .dataframe thead th {\n",
       "        text-align: right;\n",
       "    }\n",
       "</style>\n",
       "<table border=\"1\" class=\"dataframe\">\n",
       "  <thead>\n",
       "    <tr style=\"text-align: right;\">\n",
       "      <th></th>\n",
       "      <th>country</th>\n",
       "    </tr>\n",
       "  </thead>\n",
       "  <tbody>\n",
       "    <tr>\n",
       "      <th>8441</th>\n",
       "      <td>usa</td>\n",
       "    </tr>\n",
       "    <tr>\n",
       "      <th>71219</th>\n",
       "      <td>usa</td>\n",
       "    </tr>\n",
       "    <tr>\n",
       "      <th>91713</th>\n",
       "      <td>china</td>\n",
       "    </tr>\n",
       "    <tr>\n",
       "      <th>15695</th>\n",
       "      <td>usa</td>\n",
       "    </tr>\n",
       "    <tr>\n",
       "      <th>72968</th>\n",
       "      <td>usa</td>\n",
       "    </tr>\n",
       "  </tbody>\n",
       "</table>\n",
       "</div>"
      ],
      "text/plain": [
       "      country\n",
       "8441      usa\n",
       "71219     usa\n",
       "91713   china\n",
       "15695     usa\n",
       "72968     usa"
      ]
     },
     "execution_count": 30,
     "metadata": {},
     "output_type": "execute_result"
    }
   ],
   "source": [
    "print(\"-\"*40)\n",
    "print(\"Displaying categorical features\")\n",
    "print(\"-\"*40)\n",
    "df_train[categorical_feats].head()"
   ]
  },
  {
   "cell_type": "code",
   "execution_count": 31,
   "metadata": {},
   "outputs": [
    {
     "name": "stdout",
     "output_type": "stream",
     "text": [
      "----------------------------------------\n",
      "List features with missing values and their percentage\n",
      "----------------------------------------\n"
     ]
    },
    {
     "data": {
      "text/html": [
       "<div>\n",
       "<style scoped>\n",
       "    .dataframe tbody tr th:only-of-type {\n",
       "        vertical-align: middle;\n",
       "    }\n",
       "\n",
       "    .dataframe tbody tr th {\n",
       "        vertical-align: top;\n",
       "    }\n",
       "\n",
       "    .dataframe thead th {\n",
       "        text-align: right;\n",
       "    }\n",
       "</style>\n",
       "<table border=\"1\" class=\"dataframe\">\n",
       "  <thead>\n",
       "    <tr style=\"text-align: right;\">\n",
       "      <th></th>\n",
       "      <th>Total</th>\n",
       "      <th>Percent</th>\n",
       "    </tr>\n",
       "  </thead>\n",
       "  <tbody>\n",
       "    <tr>\n",
       "      <th>A_comments</th>\n",
       "      <td>82267</td>\n",
       "      <td>0.733564</td>\n",
       "    </tr>\n",
       "    <tr>\n",
       "      <th>Q_comments</th>\n",
       "      <td>82267</td>\n",
       "      <td>0.733564</td>\n",
       "    </tr>\n",
       "    <tr>\n",
       "      <th>AboutMe_length</th>\n",
       "      <td>39580</td>\n",
       "      <td>0.352930</td>\n",
       "    </tr>\n",
       "    <tr>\n",
       "      <th>Answers_log</th>\n",
       "      <td>0</td>\n",
       "      <td>0.000000</td>\n",
       "    </tr>\n",
       "    <tr>\n",
       "      <th>Questions_log</th>\n",
       "      <td>0</td>\n",
       "      <td>0.000000</td>\n",
       "    </tr>\n",
       "  </tbody>\n",
       "</table>\n",
       "</div>"
      ],
      "text/plain": [
       "                Total   Percent\n",
       "A_comments      82267  0.733564\n",
       "Q_comments      82267  0.733564\n",
       "AboutMe_length  39580  0.352930\n",
       "Answers_log         0  0.000000\n",
       "Questions_log       0  0.000000"
      ]
     },
     "execution_count": 31,
     "metadata": {},
     "output_type": "execute_result"
    }
   ],
   "source": [
    "print(\"-\"*40)\n",
    "print(\"List features with missing values and their percentage\")\n",
    "print(\"-\"*40)\n",
    "total = df_train.isnull().sum().sort_values(ascending=False)\n",
    "percent = (df_train.isnull().sum()/df_train.isnull().count()).sort_values(ascending=False)\n",
    "missing_data = pd.concat([total, percent], axis=1, keys=['Total', 'Percent'])\n",
    "missing_data.head()"
   ]
  },
  {
   "cell_type": "markdown",
   "metadata": {},
   "source": [
    "## Filling missing values\n",
    "* we have a few columns with a large percentage of NaN entries."
   ]
  },
  {
   "cell_type": "code",
   "execution_count": 32,
   "metadata": {},
   "outputs": [
    {
     "name": "stderr",
     "output_type": "stream",
     "text": [
      "C:\\Users\\alamo248\\AppData\\Local\\Continuum\\anaconda3\\lib\\site-packages\\pandas\\core\\generic.py:6130: SettingWithCopyWarning: \n",
      "A value is trying to be set on a copy of a slice from a DataFrame\n",
      "\n",
      "See the caveats in the documentation: http://pandas.pydata.org/pandas-docs/stable/indexing.html#indexing-view-versus-copy\n",
      "  self._update_inplace(new_data)\n"
     ]
    }
   ],
   "source": [
    "cols_fillna = ['A_comments','Q_comments','AboutMe_length']\n",
    "# replace 'NaN' with zero in these columns\n",
    "for col in cols_fillna:\n",
    "    df_train[col].fillna(0,inplace=True)\n",
    "    df_test[col].fillna(0,inplace=True)"
   ]
  },
  {
   "cell_type": "code",
   "execution_count": 33,
   "metadata": {},
   "outputs": [
    {
     "name": "stdout",
     "output_type": "stream",
     "text": [
      "----------------------------------------\n",
      "List features after handeling missing values\n",
      "----------------------------------------\n"
     ]
    },
    {
     "data": {
      "text/html": [
       "<div>\n",
       "<style scoped>\n",
       "    .dataframe tbody tr th:only-of-type {\n",
       "        vertical-align: middle;\n",
       "    }\n",
       "\n",
       "    .dataframe tbody tr th {\n",
       "        vertical-align: top;\n",
       "    }\n",
       "\n",
       "    .dataframe thead th {\n",
       "        text-align: right;\n",
       "    }\n",
       "</style>\n",
       "<table border=\"1\" class=\"dataframe\">\n",
       "  <thead>\n",
       "    <tr style=\"text-align: right;\">\n",
       "      <th></th>\n",
       "      <th>Total</th>\n",
       "      <th>Percent</th>\n",
       "    </tr>\n",
       "  </thead>\n",
       "  <tbody>\n",
       "    <tr>\n",
       "      <th>Answers_log</th>\n",
       "      <td>0</td>\n",
       "      <td>0.0</td>\n",
       "    </tr>\n",
       "    <tr>\n",
       "      <th>Questions_log</th>\n",
       "      <td>0</td>\n",
       "      <td>0.0</td>\n",
       "    </tr>\n",
       "    <tr>\n",
       "      <th>A_comments</th>\n",
       "      <td>0</td>\n",
       "      <td>0.0</td>\n",
       "    </tr>\n",
       "    <tr>\n",
       "      <th>Q_comments</th>\n",
       "      <td>0</td>\n",
       "      <td>0.0</td>\n",
       "    </tr>\n",
       "    <tr>\n",
       "      <th>badges</th>\n",
       "      <td>0</td>\n",
       "      <td>0.0</td>\n",
       "    </tr>\n",
       "  </tbody>\n",
       "</table>\n",
       "</div>"
      ],
      "text/plain": [
       "               Total  Percent\n",
       "Answers_log        0      0.0\n",
       "Questions_log      0      0.0\n",
       "A_comments         0      0.0\n",
       "Q_comments         0      0.0\n",
       "badges             0      0.0"
      ]
     },
     "execution_count": 33,
     "metadata": {},
     "output_type": "execute_result"
    }
   ],
   "source": [
    "print(\"-\"*40)\n",
    "print(\"List features after handeling missing values\")\n",
    "print(\"-\"*40)\n",
    "total = df_train.isnull().sum().sort_values(ascending=False)\n",
    "percent = (df_train.isnull().sum()/df_train.isnull().count()).sort_values(ascending=False)\n",
    "missing_data = pd.concat([total, percent], axis=1, keys=['Total', 'Percent'])\n",
    "missing_data.head()"
   ]
  },
  {
   "cell_type": "code",
   "execution_count": 34,
   "metadata": {},
   "outputs": [
    {
     "name": "stdout",
     "output_type": "stream",
     "text": [
      "----------------------------------------\n",
      "Missing values in train data ?\n",
      "----------------------------------------\n"
     ]
    },
    {
     "data": {
      "text/plain": [
       "0"
      ]
     },
     "execution_count": 34,
     "metadata": {},
     "output_type": "execute_result"
    }
   ],
   "source": [
    "print(\"-\"*40)\n",
    "print(\"Missing values in train data ?\")\n",
    "print(\"-\"*40)\n",
    "df_train.isnull().sum().sum()"
   ]
  },
  {
   "cell_type": "code",
   "execution_count": 35,
   "metadata": {},
   "outputs": [
    {
     "name": "stdout",
     "output_type": "stream",
     "text": [
      "----------------------------------------\n",
      "Missing values in test data ?\n",
      "----------------------------------------\n"
     ]
    },
    {
     "data": {
      "text/plain": [
       "0"
      ]
     },
     "execution_count": 35,
     "metadata": {},
     "output_type": "execute_result"
    }
   ],
   "source": [
    "print(\"-\"*40)\n",
    "print(\"Missing values in test data ?\")\n",
    "print(\"-\"*40)\n",
    "df_train.isnull().sum().sum()"
   ]
  },
  {
   "cell_type": "markdown",
   "metadata": {},
   "source": [
    "## log transform\n",
    "\n",
    "* Like the target features, other features are not normally distributed therefore it is better to tranform those features using log in df_train and df_test. "
   ]
  },
  {
   "cell_type": "code",
   "execution_count": 36,
   "metadata": {},
   "outputs": [
    {
     "name": "stdout",
     "output_type": "stream",
     "text": [
      "----------------------------------------\n",
      "Checking for skewness and kurtosis:\n",
      "----------------------------------------\n",
      "Id                   Skewness: 00.14     Kurtosis: -01.29\n",
      "AboutMe_length       Skewness: 07.16     Kurtosis: 080.83\n",
      "activity_in_months      Skewness: 00.95     Kurtosis: -00.19\n",
      "UpVotes              Skewness: 31.72     Kurtosis: 1963.95\n",
      "DownVotes            Skewness: 146.47     Kurtosis: 29740.56\n",
      "Reputation           Skewness: 60.66     Kurtosis: 5753.47\n",
      "Views                Skewness: 147.46     Kurtosis: 28404.51\n",
      "badges               Skewness: 31.92     Kurtosis: 2409.27\n",
      "Q_comments           Skewness: 19.71     Kurtosis: 602.85\n",
      "A_comments           Skewness: 72.67     Kurtosis: 7927.83\n",
      "Questions_log        Skewness: 02.16     Kurtosis: 004.46\n",
      "Answers_log          Skewness: 02.26     Kurtosis: 005.05\n"
     ]
    }
   ],
   "source": [
    "print(\"-\"*40)\n",
    "print(\"Checking for skewness and kurtosis:\")\n",
    "print(\"-\"*40)\n",
    "\n",
    "for col in numerical_feats:\n",
    "    print('{:15}'.format(col),'    ', \n",
    "          'Skewness: {:05.2f}'.format(df_train[col].skew()) , \n",
    "          '   ' ,\n",
    "          'Kurtosis: {:06.2f}'.format(df_train[col].kurt())  \n",
    "         )"
   ]
  },
  {
   "cell_type": "code",
   "execution_count": 37,
   "metadata": {},
   "outputs": [
    {
     "data": {
      "text/plain": [
       "[dtype('O'), dtype('float64'), dtype('int64')]"
      ]
     },
     "execution_count": 37,
     "metadata": {},
     "output_type": "execute_result"
    }
   ],
   "source": [
    "list(set(df_train.dtypes.tolist()))"
   ]
  },
  {
   "cell_type": "code",
   "execution_count": 38,
   "metadata": {},
   "outputs": [
    {
     "data": {
      "text/html": [
       "<div>\n",
       "<style scoped>\n",
       "    .dataframe tbody tr th:only-of-type {\n",
       "        vertical-align: middle;\n",
       "    }\n",
       "\n",
       "    .dataframe tbody tr th {\n",
       "        vertical-align: top;\n",
       "    }\n",
       "\n",
       "    .dataframe thead th {\n",
       "        text-align: right;\n",
       "    }\n",
       "</style>\n",
       "<table border=\"1\" class=\"dataframe\">\n",
       "  <thead>\n",
       "    <tr style=\"text-align: right;\">\n",
       "      <th></th>\n",
       "      <th>Id</th>\n",
       "      <th>AboutMe_length</th>\n",
       "      <th>activity_in_months</th>\n",
       "      <th>UpVotes</th>\n",
       "      <th>DownVotes</th>\n",
       "      <th>Reputation</th>\n",
       "      <th>Views</th>\n",
       "      <th>badges</th>\n",
       "      <th>Q_comments</th>\n",
       "      <th>A_comments</th>\n",
       "      <th>Questions_log</th>\n",
       "      <th>Answers_log</th>\n",
       "    </tr>\n",
       "  </thead>\n",
       "  <tbody>\n",
       "    <tr>\n",
       "      <th>8441</th>\n",
       "      <td>6406742</td>\n",
       "      <td>0.0</td>\n",
       "      <td>0.0</td>\n",
       "      <td>0</td>\n",
       "      <td>0</td>\n",
       "      <td>1</td>\n",
       "      <td>0</td>\n",
       "      <td>0</td>\n",
       "      <td>0.0</td>\n",
       "      <td>0.0</td>\n",
       "      <td>0.000000</td>\n",
       "      <td>0.000000</td>\n",
       "    </tr>\n",
       "    <tr>\n",
       "      <th>71219</th>\n",
       "      <td>402309</td>\n",
       "      <td>65.0</td>\n",
       "      <td>76.8</td>\n",
       "      <td>12</td>\n",
       "      <td>0</td>\n",
       "      <td>71</td>\n",
       "      <td>54</td>\n",
       "      <td>11</td>\n",
       "      <td>6.0</td>\n",
       "      <td>3.0</td>\n",
       "      <td>2.484907</td>\n",
       "      <td>1.098612</td>\n",
       "    </tr>\n",
       "    <tr>\n",
       "      <th>91713</th>\n",
       "      <td>8745370</td>\n",
       "      <td>0.0</td>\n",
       "      <td>2.6</td>\n",
       "      <td>0</td>\n",
       "      <td>0</td>\n",
       "      <td>1</td>\n",
       "      <td>0</td>\n",
       "      <td>1</td>\n",
       "      <td>0.0</td>\n",
       "      <td>0.0</td>\n",
       "      <td>0.000000</td>\n",
       "      <td>0.000000</td>\n",
       "    </tr>\n",
       "    <tr>\n",
       "      <th>15695</th>\n",
       "      <td>8980446</td>\n",
       "      <td>0.0</td>\n",
       "      <td>0.8</td>\n",
       "      <td>0</td>\n",
       "      <td>0</td>\n",
       "      <td>1</td>\n",
       "      <td>0</td>\n",
       "      <td>1</td>\n",
       "      <td>0.0</td>\n",
       "      <td>0.0</td>\n",
       "      <td>0.000000</td>\n",
       "      <td>0.000000</td>\n",
       "    </tr>\n",
       "    <tr>\n",
       "      <th>72968</th>\n",
       "      <td>974502</td>\n",
       "      <td>0.0</td>\n",
       "      <td>80.9</td>\n",
       "      <td>7</td>\n",
       "      <td>0</td>\n",
       "      <td>333</td>\n",
       "      <td>13</td>\n",
       "      <td>6</td>\n",
       "      <td>0.0</td>\n",
       "      <td>0.0</td>\n",
       "      <td>0.000000</td>\n",
       "      <td>2.833213</td>\n",
       "    </tr>\n",
       "  </tbody>\n",
       "</table>\n",
       "</div>"
      ],
      "text/plain": [
       "            Id  AboutMe_length  activity_in_months  UpVotes  DownVotes  \\\n",
       "8441   6406742             0.0                 0.0        0          0   \n",
       "71219   402309            65.0                76.8       12          0   \n",
       "91713  8745370             0.0                 2.6        0          0   \n",
       "15695  8980446             0.0                 0.8        0          0   \n",
       "72968   974502             0.0                80.9        7          0   \n",
       "\n",
       "       Reputation  Views  badges  Q_comments  A_comments  Questions_log  \\\n",
       "8441            1      0       0         0.0         0.0       0.000000   \n",
       "71219          71     54      11         6.0         3.0       2.484907   \n",
       "91713           1      0       1         0.0         0.0       0.000000   \n",
       "15695           1      0       1         0.0         0.0       0.000000   \n",
       "72968         333     13       6         0.0         0.0       0.000000   \n",
       "\n",
       "       Answers_log  \n",
       "8441      0.000000  \n",
       "71219     1.098612  \n",
       "91713     0.000000  \n",
       "15695     0.000000  \n",
       "72968     2.833213  "
      ]
     },
     "execution_count": 38,
     "metadata": {},
     "output_type": "execute_result"
    }
   ],
   "source": [
    "df_num = df_train.select_dtypes(include = ['float64', 'int64'])\n",
    "df_num.head()"
   ]
  },
  {
   "cell_type": "code",
   "execution_count": 39,
   "metadata": {},
   "outputs": [
    {
     "data": {
      "image/png": "[encoded data removed]",
      "text/plain": [
       "<Figure size 1152x1440 with 12 Axes>"
      ]
     },
     "metadata": {
      "needs_background": "light"
     },
     "output_type": "display_data"
    }
   ],
   "source": [
    "df_num.hist(figsize=(16, 20), bins=50, xlabelsize=8, ylabelsize=8);"
   ]
  },
  {
   "cell_type": "markdown",
   "metadata": {},
   "source": [
    "## 1.2 Relation of features to target (SalePrice_log)\n",
    "### Plots of relation to target for all numerical features"
   ]
  },
  {
   "cell_type": "code",
   "execution_count": 40,
   "metadata": {},
   "outputs": [
    {
     "data": {
      "image/png": "[encoded data removed]",
      "text/plain": [
       "<Figure size 504x1080 with 10 Axes>"
      ]
     },
     "metadata": {
      "needs_background": "light"
     },
     "output_type": "display_data"
    }
   ],
   "source": [
    "nr_rows = 5\n",
    "nr_cols = 2\n",
    "\n",
    "fig, axs = plt.subplots(nr_rows, nr_cols, figsize=(nr_cols*3.5,nr_rows*3))\n",
    "\n",
    "li_num_feats = list(numerical_feats)\n",
    "li_not_plot = ['Id', 'Questions_log']\n",
    "li_plot_num_feats = [c for c in list(numerical_feats) if c not in li_not_plot]\n",
    "\n",
    "\n",
    "for r in range(0,nr_rows):\n",
    "    for c in range(0,nr_cols):  \n",
    "        i = r*nr_cols+c\n",
    "        if i < len(li_plot_num_feats):\n",
    "            sns.regplot(df_train[li_plot_num_feats[i]], df_train[target_1], ax = axs[r][c])\n",
    "            stp = stats.pearsonr(df_train[li_plot_num_feats[i]], df_train[target_1])\n",
    "            #axs[r][c].text(0.4,0.9,\"title\",fontsize=7)\n",
    "            str_title = \"r = \" + \"{0:.2f}\".format(stp[0]) + \"      \" \"p = \" + \"{0:.2f}\".format(stp[1])\n",
    "            axs[r][c].set_title(str_title,fontsize=11)\n",
    "            \n",
    "plt.tight_layout()    \n",
    "plt.show()   "
   ]
  },
  {
   "cell_type": "code",
   "execution_count": 41,
   "metadata": {},
   "outputs": [
    {
     "data": {
      "image/png": "[encoded data removed]",
      "text/plain": [
       "<Figure size 504x1080 with 10 Axes>"
      ]
     },
     "metadata": {
      "needs_background": "light"
     },
     "output_type": "display_data"
    }
   ],
   "source": [
    "nr_rows = 5\n",
    "nr_cols = 2\n",
    "\n",
    "fig, axs = plt.subplots(nr_rows, nr_cols, figsize=(nr_cols*3.5,nr_rows*3))\n",
    "\n",
    "li_num_feats = list(numerical_feats)\n",
    "li_not_plot = ['Id', 'Answers_log']\n",
    "li_plot_num_feats = [c for c in list(numerical_feats) if c not in li_not_plot]\n",
    "\n",
    "\n",
    "for r in range(0,nr_rows):\n",
    "    for c in range(0,nr_cols):  \n",
    "        i = r*nr_cols+c\n",
    "        if i < len(li_plot_num_feats):\n",
    "            sns.regplot(df_train[li_plot_num_feats[i]], df_train[target_2], ax = axs[r][c])\n",
    "            stp = stats.pearsonr(df_train[li_plot_num_feats[i]], df_train[target_2])\n",
    "            #axs[r][c].text(0.4,0.9,\"title\",fontsize=7)\n",
    "            str_title = \"r = \" + \"{0:.2f}\".format(stp[0]) + \"      \" \"p = \" + \"{0:.2f}\".format(stp[1])\n",
    "            axs[r][c].set_title(str_title,fontsize=11)\n",
    "            \n",
    "plt.tight_layout()    \n",
    "plt.show()  "
   ]
  },
  {
   "cell_type": "markdown",
   "metadata": {},
   "source": [
    "### List of numerical features and their correlation coefficient to target"
   ]
  },
  {
   "cell_type": "markdown",
   "metadata": {},
   "source": [
    "**Find columns with strong correlation to target**  \n",
    "Only those with r > min_val_corr are used in the ML Regressors in Part 3  \n",
    "The value for min_val_corr can be chosen in global settings"
   ]
  },
  {
   "cell_type": "code",
   "execution_count": 42,
   "metadata": {},
   "outputs": [],
   "source": [
    "corr = df_train.corr()\n",
    "corr_abs = corr.abs()\n",
    "\n",
    "nr_num_cols = len(numerical_feats)\n",
    "ser_corr = corr_abs.nlargest(nr_num_cols, target_1)[target_1]\n",
    "\n",
    "cols_abv_corr_limit = list(ser_corr[ser_corr.values > min_val_corr].index)\n",
    "cols_bel_corr_limit = list(ser_corr[ser_corr.values <= min_val_corr].index)"
   ]
  },
  {
   "cell_type": "code",
   "execution_count": 43,
   "metadata": {},
   "outputs": [
    {
     "name": "stdout",
     "output_type": "stream",
     "text": [
      "Questions_log         1.000000\n",
      "Answers_log           0.583232\n",
      "activity_in_months    0.519317\n",
      "badges                0.486148\n",
      "Q_comments            0.461971\n",
      "Id                    0.375325\n",
      "UpVotes               0.310043\n",
      "Reputation            0.166376\n",
      "A_comments            0.122552\n",
      "Views                 0.108367\n",
      "AboutMe_length        0.099355\n",
      "DownVotes             0.059330\n",
      "Name: Questions_log, dtype: float64\n",
      "----------------------------------------------------------------------------------------------------\n",
      "List of numerical features with r above min_val_corr :\n",
      "['Questions_log', 'Answers_log', 'activity_in_months', 'badges', 'Q_comments']\n",
      "----------------------------------------------------------------------------------------------------\n",
      "List of numerical features with r below min_val_corr :\n",
      "['Id', 'UpVotes', 'Reputation', 'A_comments', 'Views', 'AboutMe_length', 'DownVotes']\n"
     ]
    }
   ],
   "source": [
    "print(ser_corr)\n",
    "print(\"-\"*100)\n",
    "print(\"List of numerical features with r above min_val_corr :\")\n",
    "print(cols_abv_corr_limit)\n",
    "print(\"-\"*100)\n",
    "print(\"List of numerical features with r below min_val_corr :\")\n",
    "print(cols_bel_corr_limit)"
   ]
  },
  {
   "cell_type": "code",
   "execution_count": 44,
   "metadata": {},
   "outputs": [],
   "source": [
    "corr = df_train.corr()\n",
    "corr_abs = corr.abs()\n",
    "\n",
    "nr_num_cols = len(numerical_feats)\n",
    "ser_corr = corr_abs.nlargest(nr_num_cols, target_2)[target_2]\n",
    "\n",
    "cols_abv_corr_limit = list(ser_corr[ser_corr.values > min_val_corr].index)\n",
    "cols_bel_corr_limit = list(ser_corr[ser_corr.values <= min_val_corr].index)"
   ]
  },
  {
   "cell_type": "code",
   "execution_count": 46,
   "metadata": {},
   "outputs": [
    {
     "name": "stdout",
     "output_type": "stream",
     "text": [
      "Answers_log           1.000000\n",
      "activity_in_months    0.620118\n",
      "Questions_log         0.583232\n",
      "badges                0.553314\n",
      "Id                    0.435306\n",
      "UpVotes               0.433113\n",
      "Q_comments            0.349697\n",
      "Reputation            0.318924\n",
      "A_comments            0.261482\n",
      "Views                 0.200779\n",
      "AboutMe_length        0.170154\n",
      "DownVotes             0.139268\n",
      "Name: Answers_log, dtype: float64\n",
      "----------------------------------------------------------------------------------------------------\n",
      "List of numerical features with r above min_val_corr :\n",
      "['Answers_log', 'activity_in_months', 'Questions_log', 'badges', 'Id', 'UpVotes']\n",
      "----------------------------------------------------------------------------------------------------\n",
      "List of numerical features with r below min_val_corr :\n",
      "['Q_comments', 'Reputation', 'A_comments', 'Views', 'AboutMe_length', 'DownVotes']\n"
     ]
    }
   ],
   "source": [
    "print(ser_corr)\n",
    "print(\"-\"*100)\n",
    "print(\"List of numerical features with r above min_val_corr :\")\n",
    "print(cols_abv_corr_limit)\n",
    "print(\"-\"*100)\n",
    "print(\"List of numerical features with r below min_val_corr :\")\n",
    "print(cols_bel_corr_limit)"
   ]
  },
  {
   "cell_type": "markdown",
   "metadata": {},
   "source": [
    "### List of categorical features and their unique values"
   ]
  },
  {
   "cell_type": "code",
   "execution_count": 48,
   "metadata": {},
   "outputs": [
    {
     "name": "stdout",
     "output_type": "stream",
     "text": [
      "----------------------------------------------------------------------------------------------------\n",
      "usa       69636\n",
      "china     27968\n",
      "russia    14543\n",
      "Name: country, dtype: int64\n",
      "----------------------------------------------------------------------------------------------------\n"
     ]
    }
   ],
   "source": [
    "print('-'*100)\n",
    "for catg in list(categorical_feats) :\n",
    "    print(df_train[catg].value_counts())\n",
    "    print('-'*100)"
   ]
  },
  {
   "cell_type": "markdown",
   "metadata": {},
   "source": [
    "### Relation to SalePrice for all categorical features"
   ]
  },
  {
   "cell_type": "code",
   "execution_count": 66,
   "metadata": {},
   "outputs": [
    {
     "data": {
      "image/png": "[encoded data removed]",
      "text/plain": [
       "<Figure size 720x576 with 4 Axes>"
      ]
     },
     "metadata": {
      "needs_background": "light"
     },
     "output_type": "display_data"
    }
   ],
   "source": [
    "li_cat_feats = list(categorical_feats)\n",
    "nr_rows = 2\n",
    "nr_cols = 2\n",
    "fig, axs = plt.subplots(nr_rows, nr_cols, figsize=(nr_cols*5,nr_rows*4))\n",
    "\n",
    "for r in range(0,nr_rows):\n",
    "    for c in range(0,nr_cols):  \n",
    "        i = r*nr_cols+c\n",
    "        if i < len(li_cat_feats):\n",
    "            sns.boxplot(x=li_cat_feats[i], y=target_1, data=df_train, ax = axs[r][c])\n",
    "plt.tight_layout()    \n",
    "plt.show()  "
   ]
  },
  {
   "cell_type": "code",
   "execution_count": 67,
   "metadata": {},
   "outputs": [
    {
     "data": {
      "image/png": "[encoded data removed]",
      "text/plain": [
       "<Figure size 720x576 with 4 Axes>"
      ]
     },
     "metadata": {
      "needs_background": "light"
     },
     "output_type": "display_data"
    }
   ],
   "source": [
    "li_cat_feats = list(categorical_feats)\n",
    "nr_rows = 2\n",
    "nr_cols = 2\n",
    "fig, axs = plt.subplots(nr_rows, nr_cols, figsize=(nr_cols*5,nr_rows*4))\n",
    "\n",
    "for r in range(0,nr_rows):\n",
    "    for c in range(0,nr_cols):  \n",
    "        i = r*nr_cols+c\n",
    "        if i < len(li_cat_feats):\n",
    "            sns.boxplot(x=li_cat_feats[i], y=target_2, data=df_train, ax = axs[r][c])\n",
    "plt.tight_layout()    \n",
    "plt.show()"
   ]
  },
  {
   "cell_type": "markdown",
   "metadata": {},
   "source": [
    "### Correlation matrix 1\n",
    "**Features with largest correlation to Questions_Log**  \n",
    "all numerical features with correlation coefficient above threshold "
   ]
  },
  {
   "cell_type": "code",
   "execution_count": 68,
   "metadata": {},
   "outputs": [
    {
     "data": {
      "image/png": "[encoded data removed]",
      "text/plain": [
       "<Figure size 288x288 with 2 Axes>"
      ]
     },
     "metadata": {
      "needs_background": "light"
     },
     "output_type": "display_data"
    }
   ],
   "source": [
    "nr_feats = len(cols_abv_corr_limit)\n",
    "plot_corr_matrix(df_train, nr_feats, target_1)"
   ]
  },
  {
   "cell_type": "code",
   "execution_count": 69,
   "metadata": {},
   "outputs": [
    {
     "data": {
      "image/png": "[encoded data removed]",
      "text/plain": [
       "<Figure size 288x288 with 2 Axes>"
      ]
     },
     "metadata": {},
     "output_type": "display_data"
    }
   ],
   "source": [
    "nr_feats = len(cols_abv_corr_limit)\n",
    "plot_corr_matrix(df_train, nr_feats, target_2)"
   ]
  },
  {
   "cell_type": "code",
   "execution_count": null,
   "metadata": {},
   "outputs": [],
   "source": []
  },
  {
   "cell_type": "code",
   "execution_count": null,
   "metadata": {},
   "outputs": [],
   "source": []
  },
  {
   "cell_type": "code",
   "execution_count": 45,
   "metadata": {},
   "outputs": [],
   "source": [
    "# # create the independent variable vector\n",
    "# x = df.iloc[:,6:15].values\n",
    "# # Question dependent variable vector \n",
    "# y = df.iloc[:, -2:-1].values\n",
    "# # Answer dependent variable vector \n",
    "# z = df.iloc[:,-1:].values\n",
    "# # create labelEncoder object to transform categorical values into integers\n",
    "# x[:, 0] = LabelEncoder().fit_transform(x[:, 0])\n",
    "# y = LabelEncoder().fit_transform(y)\n",
    "# z = LabelEncoder().fit_transform(z)\n",
    "# # creating OneHotEncoder object to transform integer categorical values into dummy categorical\n",
    "# x = OneHotEncoder(categorical_features=[0]).fit_transform(x).toarray()\n",
    "# # Create training and testing sets\n",
    "# x_train,x_test,y_train,y_test,z_train,z_test = train_test_split(x,y,z, test_size = 0.2, random_state = 0)\n",
    "# # feature scaling\n",
    "# sc_x = StandardScaler()\n",
    "# x_train = sc_x.fit_transform(x_train)\n",
    "# x_test = sc_x.transform(x_test)"
   ]
  }
 ],
 "metadata": {
  "kernelspec": {
   "display_name": "Python 3",
   "language": "python",
   "name": "python3"
  },
  "language_info": {
   "codemirror_mode": {
    "name": "ipython",
    "version": 3
   },
   "file_extension": ".py",
   "mimetype": "text/x-python",
   "name": "python",
   "nbconvert_exporter": "python",
   "pygments_lexer": "ipython3",
   "version": "3.7.3"
  }
 },
 "nbformat": 4,
 "nbformat_minor": 2
}
