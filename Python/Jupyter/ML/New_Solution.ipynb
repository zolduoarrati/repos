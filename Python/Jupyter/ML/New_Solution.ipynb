{
 "cells": [
  {
   "cell_type": "code",
   "execution_count": 1,
   "metadata": {},
   "outputs": [],
   "source": [
    "# data analysis and wrangling\n",
    "import pandas as pd\n",
    "import numpy as np\n",
    "import random as rnd\n",
    "\n",
    "# data visualisation\n",
    "import seaborn as sns\n",
    "import matplotlib.pyplot as plt\n",
    "%matplotlib inline\n",
    "\n",
    "# machine learning libraries\n",
    "from sklearn.linear_model import LogisticRegression\n",
    "from sklearn.svm import SVC, LinearSVC\n",
    "from sklearn.ensemble import RandomForestClassifier\n",
    "from sklearn.neighbors import KNeighborsClassifier\n",
    "from sklearn.naive_bayes import GaussianNB\n",
    "from sklearn.linear_model import Perceptron\n",
    "from sklearn.linear_model import SGDClassifier\n",
    "from sklearn.tree import DecisionTreeClassifier\n",
    "from sklearn import preprocessing\n",
    "from sklearn.model_selection import train_test_split"
   ]
  },
  {
   "cell_type": "code",
   "execution_count": 2,
   "metadata": {},
   "outputs": [],
   "source": [
    "pd.set_option('display.max_columns', None)  \n",
    "pd.set_option('display.expand_frame_repr', False)\n",
    "pd.set_option('max_colwidth', -1)"
   ]
  },
  {
   "cell_type": "code",
   "execution_count": 3,
   "metadata": {},
   "outputs": [],
   "source": [
    "df = pd.read_csv(\"C://Data/all.csv\")"
   ]
  },
  {
   "cell_type": "code",
   "execution_count": 4,
   "metadata": {},
   "outputs": [],
   "source": [
    "df.drop(['ph_PostMigratedHere','ph_UnknownSuggestionEvent','ph_QuestionMerged','ph_PostMigrated','ph_PostMigrated','p_Wiki','ph_QuestionUnmerged','ph_PostDisassociated','ph_SuggestedEditApplied','ph_UnknownDevRelatedEvent','ph_VoteNullificationByDev','ph_PostTweeted','ph_PostUnmigrated','ph_UnknownModeratorEvent','ph_UnknownEvent','ph_CommentDiscussionMovedToChat','p_PrivilegeWiki','p_WikiPlaceholder'], axis= 1, inplace=True);"
   ]
  },
  {
   "cell_type": "code",
   "execution_count": 5,
   "metadata": {},
   "outputs": [],
   "source": [
    "# Create training and testing sets\n",
    "df_train,df_test= train_test_split(df, test_size = 0.2, random_state = 0)\n",
    "combine = [df_train,df_test]"
   ]
  },
  {
   "cell_type": "code",
   "execution_count": 6,
   "metadata": {},
   "outputs": [
    {
     "name": "stdout",
     "output_type": "stream",
     "text": [
      "['Id' 'country' 'AboutMe_length' 'activity_in_months' 'UpVotes'\n",
      " 'DownVotes' 'Reputation' 'Views' 'badges' 'Q_comments' 'A_comments'\n",
      " 'P_questions' 'P_answers' 'p_ModeratorNomination' 'p_TagWiki'\n",
      " 'p_TagWikiExerpt' 'ph_InitialTitle' 'ph_EditTitle' 'ph_InitialBody'\n",
      " 'ph_InitialTags' 'ph_EditBody' 'ph_EditTags' 'ph_RollbackTitle'\n",
      " 'ph_RollbackBody' 'ph_PostReopened' 'ph_RollbackTags' 'ph_PostClosed'\n",
      " 'ph_PostDeleted' 'ph_PostUndeleted' 'ph_CommunityOwned' 'ph_PostLocked'\n",
      " 'ph_PostUnlocked' 'ph_QuestionUnprotected' 'ph_QuestionProtected'\n",
      " 'ph_PostNoticeRemoved' 'ph_PostNoticeAdded' 'ph_PostMergeSource'\n",
      " 'ph_PostMigratedAway' 'ph_PostMergeDestination']\n"
     ]
    }
   ],
   "source": [
    "print(df_train.columns.values)"
   ]
  },
  {
   "cell_type": "code",
   "execution_count": 7,
   "metadata": {},
   "outputs": [
    {
     "name": "stdout",
     "output_type": "stream",
     "text": [
      "<class 'pandas.core.frame.DataFrame'>\n",
      "Int64Index: 112147 entries, 8441 to 43567\n",
      "Data columns (total 39 columns):\n",
      "Id                         112147 non-null int64\n",
      "country                    112147 non-null object\n",
      "AboutMe_length             72567 non-null float64\n",
      "activity_in_months         112147 non-null float64\n",
      "UpVotes                    112147 non-null int64\n",
      "DownVotes                  112147 non-null int64\n",
      "Reputation                 112147 non-null int64\n",
      "Views                      112147 non-null int64\n",
      "badges                     112147 non-null int64\n",
      "Q_comments                 29880 non-null float64\n",
      "A_comments                 29880 non-null float64\n",
      "P_questions                83111 non-null float64\n",
      "P_answers                  82712 non-null float64\n",
      "p_ModeratorNomination      18 non-null float64\n",
      "p_TagWiki                  639 non-null float64\n",
      "p_TagWikiExerpt            782 non-null float64\n",
      "ph_InitialTitle            30676 non-null float64\n",
      "ph_EditTitle               7457 non-null float64\n",
      "ph_InitialBody             37948 non-null float64\n",
      "ph_InitialTags             30672 non-null float64\n",
      "ph_EditBody                22936 non-null float64\n",
      "ph_EditTags                7423 non-null float64\n",
      "ph_RollbackTitle           269 non-null float64\n",
      "ph_RollbackBody            943 non-null float64\n",
      "ph_PostReopened            84 non-null float64\n",
      "ph_RollbackTags            329 non-null float64\n",
      "ph_PostClosed              124 non-null float64\n",
      "ph_PostDeleted             2914 non-null float64\n",
      "ph_PostUndeleted           2936 non-null float64\n",
      "ph_CommunityOwned          956 non-null float64\n",
      "ph_PostLocked              6 non-null float64\n",
      "ph_PostUnlocked            6 non-null float64\n",
      "ph_QuestionUnprotected     19 non-null float64\n",
      "ph_QuestionProtected       72 non-null float64\n",
      "ph_PostNoticeRemoved       1109 non-null float64\n",
      "ph_PostNoticeAdded         1844 non-null float64\n",
      "ph_PostMergeSource         5 non-null float64\n",
      "ph_PostMigratedAway        5 non-null float64\n",
      "ph_PostMergeDestination    5 non-null float64\n",
      "dtypes: float64(32), int64(6), object(1)\n",
      "memory usage: 34.2+ MB\n",
      "--------------------------------------------------\n",
      "<class 'pandas.core.frame.DataFrame'>\n",
      "Int64Index: 28037 entries, 36852 to 23689\n",
      "Data columns (total 39 columns):\n",
      "Id                         28037 non-null int64\n",
      "country                    28037 non-null object\n",
      "AboutMe_length             18176 non-null float64\n",
      "activity_in_months         28037 non-null float64\n",
      "UpVotes                    28037 non-null int64\n",
      "DownVotes                  28037 non-null int64\n",
      "Reputation                 28037 non-null int64\n",
      "Views                      28037 non-null int64\n",
      "badges                     28037 non-null int64\n",
      "Q_comments                 7467 non-null float64\n",
      "A_comments                 7467 non-null float64\n",
      "P_questions                20637 non-null float64\n",
      "P_answers                  20604 non-null float64\n",
      "p_ModeratorNomination      2 non-null float64\n",
      "p_TagWiki                  158 non-null float64\n",
      "p_TagWikiExerpt            170 non-null float64\n",
      "ph_InitialTitle            7643 non-null float64\n",
      "ph_EditTitle               1874 non-null float64\n",
      "ph_InitialBody             9505 non-null float64\n",
      "ph_InitialTags             7643 non-null float64\n",
      "ph_EditBody                5711 non-null float64\n",
      "ph_EditTags                1854 non-null float64\n",
      "ph_RollbackTitle           64 non-null float64\n",
      "ph_RollbackBody            230 non-null float64\n",
      "ph_PostReopened            10 non-null float64\n",
      "ph_RollbackTags            84 non-null float64\n",
      "ph_PostClosed              20 non-null float64\n",
      "ph_PostDeleted             725 non-null float64\n",
      "ph_PostUndeleted           730 non-null float64\n",
      "ph_CommunityOwned          218 non-null float64\n",
      "ph_PostLocked              0 non-null float64\n",
      "ph_PostUnlocked            1 non-null float64\n",
      "ph_QuestionUnprotected     2 non-null float64\n",
      "ph_QuestionProtected       12 non-null float64\n",
      "ph_PostNoticeRemoved       248 non-null float64\n",
      "ph_PostNoticeAdded         416 non-null float64\n",
      "ph_PostMergeSource         0 non-null float64\n",
      "ph_PostMigratedAway        0 non-null float64\n",
      "ph_PostMergeDestination    0 non-null float64\n",
      "dtypes: float64(32), int64(6), object(1)\n",
      "memory usage: 8.6+ MB\n"
     ]
    }
   ],
   "source": [
    "df_train.info()\n",
    "print(\"-\"*50)\n",
    "df_test.info()"
   ]
  },
  {
   "cell_type": "code",
   "execution_count": 8,
   "metadata": {},
   "outputs": [
    {
     "data": {
      "text/html": [
       "<div>\n",
       "<style scoped>\n",
       "    .dataframe tbody tr th:only-of-type {\n",
       "        vertical-align: middle;\n",
       "    }\n",
       "\n",
       "    .dataframe tbody tr th {\n",
       "        vertical-align: top;\n",
       "    }\n",
       "\n",
       "    .dataframe thead th {\n",
       "        text-align: right;\n",
       "    }\n",
       "</style>\n",
       "<table border=\"1\" class=\"dataframe\">\n",
       "  <thead>\n",
       "    <tr style=\"text-align: right;\">\n",
       "      <th></th>\n",
       "      <th>Id</th>\n",
       "      <th>AboutMe_length</th>\n",
       "      <th>activity_in_months</th>\n",
       "      <th>UpVotes</th>\n",
       "      <th>DownVotes</th>\n",
       "      <th>Reputation</th>\n",
       "      <th>Views</th>\n",
       "      <th>badges</th>\n",
       "      <th>Q_comments</th>\n",
       "      <th>A_comments</th>\n",
       "      <th>P_questions</th>\n",
       "      <th>P_answers</th>\n",
       "      <th>p_ModeratorNomination</th>\n",
       "      <th>p_TagWiki</th>\n",
       "      <th>p_TagWikiExerpt</th>\n",
       "      <th>ph_InitialTitle</th>\n",
       "      <th>ph_EditTitle</th>\n",
       "      <th>ph_InitialBody</th>\n",
       "      <th>ph_InitialTags</th>\n",
       "      <th>ph_EditBody</th>\n",
       "      <th>ph_EditTags</th>\n",
       "      <th>ph_RollbackTitle</th>\n",
       "      <th>ph_RollbackBody</th>\n",
       "      <th>ph_PostReopened</th>\n",
       "      <th>ph_RollbackTags</th>\n",
       "      <th>ph_PostClosed</th>\n",
       "      <th>ph_PostDeleted</th>\n",
       "      <th>ph_PostUndeleted</th>\n",
       "      <th>ph_CommunityOwned</th>\n",
       "      <th>ph_PostLocked</th>\n",
       "      <th>ph_PostUnlocked</th>\n",
       "      <th>ph_QuestionUnprotected</th>\n",
       "      <th>ph_QuestionProtected</th>\n",
       "      <th>ph_PostNoticeRemoved</th>\n",
       "      <th>ph_PostNoticeAdded</th>\n",
       "      <th>ph_PostMergeSource</th>\n",
       "      <th>ph_PostMigratedAway</th>\n",
       "      <th>ph_PostMergeDestination</th>\n",
       "    </tr>\n",
       "  </thead>\n",
       "  <tbody>\n",
       "    <tr>\n",
       "      <th>count</th>\n",
       "      <td>1.121470e+05</td>\n",
       "      <td>72567.000000</td>\n",
       "      <td>112147.000000</td>\n",
       "      <td>112147.000000</td>\n",
       "      <td>112147.000000</td>\n",
       "      <td>112147.000000</td>\n",
       "      <td>112147.000000</td>\n",
       "      <td>112147.000000</td>\n",
       "      <td>29880.000000</td>\n",
       "      <td>29880.000000</td>\n",
       "      <td>83111.000000</td>\n",
       "      <td>82712.000000</td>\n",
       "      <td>18.000000</td>\n",
       "      <td>639.000000</td>\n",
       "      <td>782.000000</td>\n",
       "      <td>30676.000000</td>\n",
       "      <td>7457.000000</td>\n",
       "      <td>37948.000000</td>\n",
       "      <td>30672.000000</td>\n",
       "      <td>22936.000000</td>\n",
       "      <td>7423.000000</td>\n",
       "      <td>269.000000</td>\n",
       "      <td>943.000000</td>\n",
       "      <td>84.000000</td>\n",
       "      <td>329.000000</td>\n",
       "      <td>124.000000</td>\n",
       "      <td>2914.000000</td>\n",
       "      <td>2936.000000</td>\n",
       "      <td>956.000000</td>\n",
       "      <td>6.000000</td>\n",
       "      <td>6.000000</td>\n",
       "      <td>19.000000</td>\n",
       "      <td>72.000000</td>\n",
       "      <td>1109.000000</td>\n",
       "      <td>1844.000000</td>\n",
       "      <td>5.000000</td>\n",
       "      <td>5.000000</td>\n",
       "      <td>5.000000</td>\n",
       "    </tr>\n",
       "    <tr>\n",
       "      <th>mean</th>\n",
       "      <td>5.254029e+06</td>\n",
       "      <td>103.525253</td>\n",
       "      <td>33.385235</td>\n",
       "      <td>53.412922</td>\n",
       "      <td>6.046020</td>\n",
       "      <td>544.607034</td>\n",
       "      <td>65.527540</td>\n",
       "      <td>8.762972</td>\n",
       "      <td>7.093273</td>\n",
       "      <td>14.362483</td>\n",
       "      <td>5.081337</td>\n",
       "      <td>15.440577</td>\n",
       "      <td>1.444444</td>\n",
       "      <td>3.336463</td>\n",
       "      <td>3.372123</td>\n",
       "      <td>9.698559</td>\n",
       "      <td>11.369720</td>\n",
       "      <td>30.030041</td>\n",
       "      <td>9.695716</td>\n",
       "      <td>31.791725</td>\n",
       "      <td>15.943823</td>\n",
       "      <td>3.962825</td>\n",
       "      <td>5.135737</td>\n",
       "      <td>20.023810</td>\n",
       "      <td>2.714286</td>\n",
       "      <td>167.588710</td>\n",
       "      <td>3.586479</td>\n",
       "      <td>3.626022</td>\n",
       "      <td>3.789749</td>\n",
       "      <td>115.166667</td>\n",
       "      <td>13.833333</td>\n",
       "      <td>4.526316</td>\n",
       "      <td>15.861111</td>\n",
       "      <td>2.036970</td>\n",
       "      <td>2.399132</td>\n",
       "      <td>81.200000</td>\n",
       "      <td>66.000000</td>\n",
       "      <td>246.800000</td>\n",
       "    </tr>\n",
       "    <tr>\n",
       "      <th>std</th>\n",
       "      <td>3.493744e+06</td>\n",
       "      <td>240.822091</td>\n",
       "      <td>35.728919</td>\n",
       "      <td>366.203056</td>\n",
       "      <td>193.574696</td>\n",
       "      <td>6673.717768</td>\n",
       "      <td>1258.866708</td>\n",
       "      <td>34.372489</td>\n",
       "      <td>21.792996</td>\n",
       "      <td>120.308331</td>\n",
       "      <td>20.267219</td>\n",
       "      <td>255.790089</td>\n",
       "      <td>0.855585</td>\n",
       "      <td>8.367411</td>\n",
       "      <td>10.869657</td>\n",
       "      <td>28.613973</td>\n",
       "      <td>104.543527</td>\n",
       "      <td>176.049231</td>\n",
       "      <td>28.608055</td>\n",
       "      <td>254.843311</td>\n",
       "      <td>117.261008</td>\n",
       "      <td>11.919448</td>\n",
       "      <td>24.004614</td>\n",
       "      <td>57.844198</td>\n",
       "      <td>6.676118</td>\n",
       "      <td>695.274865</td>\n",
       "      <td>15.982254</td>\n",
       "      <td>17.237171</td>\n",
       "      <td>34.506737</td>\n",
       "      <td>179.208724</td>\n",
       "      <td>15.791348</td>\n",
       "      <td>9.057645</td>\n",
       "      <td>77.046594</td>\n",
       "      <td>3.491284</td>\n",
       "      <td>4.871225</td>\n",
       "      <td>114.707018</td>\n",
       "      <td>131.556072</td>\n",
       "      <td>340.281795</td>\n",
       "    </tr>\n",
       "    <tr>\n",
       "      <th>min</th>\n",
       "      <td>3.200000e+01</td>\n",
       "      <td>0.000000</td>\n",
       "      <td>0.000000</td>\n",
       "      <td>0.000000</td>\n",
       "      <td>0.000000</td>\n",
       "      <td>1.000000</td>\n",
       "      <td>0.000000</td>\n",
       "      <td>0.000000</td>\n",
       "      <td>0.000000</td>\n",
       "      <td>0.000000</td>\n",
       "      <td>0.000000</td>\n",
       "      <td>0.000000</td>\n",
       "      <td>1.000000</td>\n",
       "      <td>1.000000</td>\n",
       "      <td>1.000000</td>\n",
       "      <td>1.000000</td>\n",
       "      <td>1.000000</td>\n",
       "      <td>1.000000</td>\n",
       "      <td>1.000000</td>\n",
       "      <td>1.000000</td>\n",
       "      <td>1.000000</td>\n",
       "      <td>1.000000</td>\n",
       "      <td>1.000000</td>\n",
       "      <td>1.000000</td>\n",
       "      <td>1.000000</td>\n",
       "      <td>1.000000</td>\n",
       "      <td>1.000000</td>\n",
       "      <td>1.000000</td>\n",
       "      <td>1.000000</td>\n",
       "      <td>3.000000</td>\n",
       "      <td>2.000000</td>\n",
       "      <td>1.000000</td>\n",
       "      <td>1.000000</td>\n",
       "      <td>1.000000</td>\n",
       "      <td>1.000000</td>\n",
       "      <td>10.000000</td>\n",
       "      <td>1.000000</td>\n",
       "      <td>28.000000</td>\n",
       "    </tr>\n",
       "    <tr>\n",
       "      <th>25%</th>\n",
       "      <td>2.039419e+06</td>\n",
       "      <td>0.000000</td>\n",
       "      <td>2.400000</td>\n",
       "      <td>0.000000</td>\n",
       "      <td>0.000000</td>\n",
       "      <td>1.000000</td>\n",
       "      <td>0.000000</td>\n",
       "      <td>0.000000</td>\n",
       "      <td>0.000000</td>\n",
       "      <td>0.000000</td>\n",
       "      <td>0.000000</td>\n",
       "      <td>0.000000</td>\n",
       "      <td>1.000000</td>\n",
       "      <td>1.000000</td>\n",
       "      <td>1.000000</td>\n",
       "      <td>1.000000</td>\n",
       "      <td>1.000000</td>\n",
       "      <td>2.000000</td>\n",
       "      <td>1.000000</td>\n",
       "      <td>1.000000</td>\n",
       "      <td>1.000000</td>\n",
       "      <td>1.000000</td>\n",
       "      <td>1.000000</td>\n",
       "      <td>1.000000</td>\n",
       "      <td>1.000000</td>\n",
       "      <td>2.000000</td>\n",
       "      <td>1.000000</td>\n",
       "      <td>1.000000</td>\n",
       "      <td>1.000000</td>\n",
       "      <td>25.000000</td>\n",
       "      <td>3.750000</td>\n",
       "      <td>1.000000</td>\n",
       "      <td>1.000000</td>\n",
       "      <td>1.000000</td>\n",
       "      <td>1.000000</td>\n",
       "      <td>17.000000</td>\n",
       "      <td>1.000000</td>\n",
       "      <td>61.000000</td>\n",
       "    </tr>\n",
       "    <tr>\n",
       "      <th>50%</th>\n",
       "      <td>4.943085e+06</td>\n",
       "      <td>22.000000</td>\n",
       "      <td>19.400000</td>\n",
       "      <td>0.000000</td>\n",
       "      <td>0.000000</td>\n",
       "      <td>1.000000</td>\n",
       "      <td>2.000000</td>\n",
       "      <td>2.000000</td>\n",
       "      <td>2.000000</td>\n",
       "      <td>1.000000</td>\n",
       "      <td>1.000000</td>\n",
       "      <td>1.000000</td>\n",
       "      <td>1.000000</td>\n",
       "      <td>1.000000</td>\n",
       "      <td>1.000000</td>\n",
       "      <td>3.000000</td>\n",
       "      <td>2.000000</td>\n",
       "      <td>4.000000</td>\n",
       "      <td>3.000000</td>\n",
       "      <td>4.000000</td>\n",
       "      <td>2.000000</td>\n",
       "      <td>1.000000</td>\n",
       "      <td>1.000000</td>\n",
       "      <td>4.000000</td>\n",
       "      <td>1.000000</td>\n",
       "      <td>13.000000</td>\n",
       "      <td>1.000000</td>\n",
       "      <td>1.000000</td>\n",
       "      <td>1.000000</td>\n",
       "      <td>43.500000</td>\n",
       "      <td>8.500000</td>\n",
       "      <td>1.000000</td>\n",
       "      <td>2.000000</td>\n",
       "      <td>1.000000</td>\n",
       "      <td>1.000000</td>\n",
       "      <td>43.000000</td>\n",
       "      <td>9.000000</td>\n",
       "      <td>147.000000</td>\n",
       "    </tr>\n",
       "    <tr>\n",
       "      <th>75%</th>\n",
       "      <td>8.321042e+06</td>\n",
       "      <td>99.000000</td>\n",
       "      <td>58.500000</td>\n",
       "      <td>4.000000</td>\n",
       "      <td>0.000000</td>\n",
       "      <td>57.000000</td>\n",
       "      <td>13.000000</td>\n",
       "      <td>6.000000</td>\n",
       "      <td>6.000000</td>\n",
       "      <td>4.000000</td>\n",
       "      <td>3.000000</td>\n",
       "      <td>4.000000</td>\n",
       "      <td>1.750000</td>\n",
       "      <td>2.000000</td>\n",
       "      <td>2.000000</td>\n",
       "      <td>8.000000</td>\n",
       "      <td>4.000000</td>\n",
       "      <td>16.000000</td>\n",
       "      <td>8.000000</td>\n",
       "      <td>12.000000</td>\n",
       "      <td>5.000000</td>\n",
       "      <td>3.000000</td>\n",
       "      <td>3.000000</td>\n",
       "      <td>17.250000</td>\n",
       "      <td>2.000000</td>\n",
       "      <td>63.000000</td>\n",
       "      <td>2.000000</td>\n",
       "      <td>2.000000</td>\n",
       "      <td>2.000000</td>\n",
       "      <td>92.000000</td>\n",
       "      <td>15.500000</td>\n",
       "      <td>2.000000</td>\n",
       "      <td>8.250000</td>\n",
       "      <td>2.000000</td>\n",
       "      <td>2.000000</td>\n",
       "      <td>52.000000</td>\n",
       "      <td>18.000000</td>\n",
       "      <td>150.000000</td>\n",
       "    </tr>\n",
       "    <tr>\n",
       "      <th>max</th>\n",
       "      <td>1.200456e+07</td>\n",
       "      <td>5687.000000</td>\n",
       "      <td>134.900000</td>\n",
       "      <td>32909.000000</td>\n",
       "      <td>45436.000000</td>\n",
       "      <td>851064.000000</td>\n",
       "      <td>268394.000000</td>\n",
       "      <td>4097.000000</td>\n",
       "      <td>618.000000</td>\n",
       "      <td>9548.000000</td>\n",
       "      <td>1107.000000</td>\n",
       "      <td>59042.000000</td>\n",
       "      <td>4.000000</td>\n",
       "      <td>107.000000</td>\n",
       "      <td>227.000000</td>\n",
       "      <td>1082.000000</td>\n",
       "      <td>6279.000000</td>\n",
       "      <td>15888.000000</td>\n",
       "      <td>1080.000000</td>\n",
       "      <td>17399.000000</td>\n",
       "      <td>5527.000000</td>\n",
       "      <td>135.000000</td>\n",
       "      <td>510.000000</td>\n",
       "      <td>465.000000</td>\n",
       "      <td>79.000000</td>\n",
       "      <td>5767.000000</td>\n",
       "      <td>442.000000</td>\n",
       "      <td>518.000000</td>\n",
       "      <td>1019.000000</td>\n",
       "      <td>474.000000</td>\n",
       "      <td>44.000000</td>\n",
       "      <td>37.000000</td>\n",
       "      <td>654.000000</td>\n",
       "      <td>56.000000</td>\n",
       "      <td>143.000000</td>\n",
       "      <td>284.000000</td>\n",
       "      <td>301.000000</td>\n",
       "      <td>848.000000</td>\n",
       "    </tr>\n",
       "  </tbody>\n",
       "</table>\n",
       "</div>"
      ],
      "text/plain": [
       "                 Id  AboutMe_length  activity_in_months        UpVotes      DownVotes     Reputation          Views         badges    Q_comments    A_comments   P_questions     P_answers  p_ModeratorNomination   p_TagWiki  p_TagWikiExerpt  ph_InitialTitle  ph_EditTitle  ph_InitialBody  ph_InitialTags   ph_EditBody  ph_EditTags  ph_RollbackTitle  ph_RollbackBody  ph_PostReopened  ph_RollbackTags  ph_PostClosed  ph_PostDeleted  ph_PostUndeleted  ph_CommunityOwned  ph_PostLocked  ph_PostUnlocked  ph_QuestionUnprotected  ph_QuestionProtected  ph_PostNoticeRemoved  ph_PostNoticeAdded  ph_PostMergeSource  ph_PostMigratedAway  ph_PostMergeDestination\n",
       "count  1.121470e+05  72567.000000    112147.000000       112147.000000  112147.000000  112147.000000  112147.000000  112147.000000  29880.000000  29880.000000  83111.000000  82712.000000  18.000000              639.000000  782.000000       30676.000000     7457.000000   37948.000000    30672.000000    22936.000000  7423.000000  269.000000        943.000000       84.000000        329.000000       124.000000     2914.000000     2936.000000       956.000000         6.000000       6.000000         19.000000               72.000000             1109.000000           1844.000000         5.000000            5.000000             5.000000               \n",
       "mean   5.254029e+06  103.525253      33.385235           53.412922      6.046020       544.607034     65.527540      8.762972       7.093273      14.362483     5.081337      15.440577     1.444444               3.336463    3.372123         9.698559         11.369720     30.030041       9.695716        31.791725     15.943823    3.962825          5.135737         20.023810        2.714286         167.588710     3.586479        3.626022          3.789749           115.166667     13.833333        4.526316                15.861111             2.036970              2.399132            81.200000           66.000000            246.800000             \n",
       "std    3.493744e+06  240.822091      35.728919           366.203056     193.574696     6673.717768    1258.866708    34.372489      21.792996     120.308331    20.267219     255.790089    0.855585               8.367411    10.869657        28.613973        104.543527    176.049231      28.608055       254.843311    117.261008   11.919448         24.004614        57.844198        6.676118         695.274865     15.982254       17.237171         34.506737          179.208724     15.791348        9.057645                77.046594             3.491284              4.871225            114.707018          131.556072           340.281795             \n",
       "min    3.200000e+01  0.000000        0.000000            0.000000       0.000000       1.000000       0.000000       0.000000       0.000000      0.000000      0.000000      0.000000      1.000000               1.000000    1.000000         1.000000         1.000000      1.000000        1.000000        1.000000      1.000000     1.000000          1.000000         1.000000         1.000000         1.000000       1.000000        1.000000          1.000000           3.000000       2.000000         1.000000                1.000000              1.000000              1.000000            10.000000           1.000000             28.000000              \n",
       "25%    2.039419e+06  0.000000        2.400000            0.000000       0.000000       1.000000       0.000000       0.000000       0.000000      0.000000      0.000000      0.000000      1.000000               1.000000    1.000000         1.000000         1.000000      2.000000        1.000000        1.000000      1.000000     1.000000          1.000000         1.000000         1.000000         2.000000       1.000000        1.000000          1.000000           25.000000      3.750000         1.000000                1.000000              1.000000              1.000000            17.000000           1.000000             61.000000              \n",
       "50%    4.943085e+06  22.000000       19.400000           0.000000       0.000000       1.000000       2.000000       2.000000       2.000000      1.000000      1.000000      1.000000      1.000000               1.000000    1.000000         3.000000         2.000000      4.000000        3.000000        4.000000      2.000000     1.000000          1.000000         4.000000         1.000000         13.000000      1.000000        1.000000          1.000000           43.500000      8.500000         1.000000                2.000000              1.000000              1.000000            43.000000           9.000000             147.000000             \n",
       "75%    8.321042e+06  99.000000       58.500000           4.000000       0.000000       57.000000      13.000000      6.000000       6.000000      4.000000      3.000000      4.000000      1.750000               2.000000    2.000000         8.000000         4.000000      16.000000       8.000000        12.000000     5.000000     3.000000          3.000000         17.250000        2.000000         63.000000      2.000000        2.000000          2.000000           92.000000      15.500000        2.000000                8.250000              2.000000              2.000000            52.000000           18.000000            150.000000             \n",
       "max    1.200456e+07  5687.000000     134.900000          32909.000000   45436.000000   851064.000000  268394.000000  4097.000000    618.000000    9548.000000   1107.000000   59042.000000  4.000000               107.000000  227.000000       1082.000000      6279.000000   15888.000000    1080.000000     17399.000000  5527.000000  135.000000        510.000000       465.000000       79.000000        5767.000000    442.000000      518.000000        1019.000000        474.000000     44.000000        37.000000               654.000000            56.000000             143.000000          284.000000          301.000000           848.000000             "
      ]
     },
     "execution_count": 8,
     "metadata": {},
     "output_type": "execute_result"
    }
   ],
   "source": [
    "df_train.describe()"
   ]
  },
  {
   "cell_type": "code",
   "execution_count": 9,
   "metadata": {},
   "outputs": [
    {
     "name": "stdout",
     "output_type": "stream",
     "text": [
      "['Id' 'country' 'AboutMe_length' 'activity_in_months' 'UpVotes'\n",
      " 'DownVotes' 'Reputation' 'Views' 'badges' 'Q_comments' 'A_comments'\n",
      " 'P_questions' 'P_answers' 'p_ModeratorNomination' 'p_TagWiki'\n",
      " 'p_TagWikiExerpt' 'ph_InitialTitle' 'ph_EditTitle' 'ph_InitialBody'\n",
      " 'ph_InitialTags' 'ph_EditBody' 'ph_EditTags' 'ph_RollbackTitle'\n",
      " 'ph_RollbackBody' 'ph_PostReopened' 'ph_RollbackTags' 'ph_PostClosed'\n",
      " 'ph_PostDeleted' 'ph_PostUndeleted' 'ph_CommunityOwned' 'ph_PostLocked'\n",
      " 'ph_PostUnlocked' 'ph_QuestionUnprotected' 'ph_QuestionProtected'\n",
      " 'ph_PostNoticeRemoved' 'ph_PostNoticeAdded' 'ph_PostMergeSource'\n",
      " 'ph_PostMigratedAway' 'ph_PostMergeDestination']\n"
     ]
    }
   ],
   "source": [
    "print(df_train.columns.values)"
   ]
  },
  {
   "cell_type": "markdown",
   "metadata": {},
   "source": [
    "**What is the distribution of categorical features?**\n",
    "\n",
    "- country has three possible unique objects across the dataset with USA count the highest at 69636"
   ]
  },
  {
   "cell_type": "code",
   "execution_count": 10,
   "metadata": {},
   "outputs": [
    {
     "data": {
      "text/html": [
       "<div>\n",
       "<style scoped>\n",
       "    .dataframe tbody tr th:only-of-type {\n",
       "        vertical-align: middle;\n",
       "    }\n",
       "\n",
       "    .dataframe tbody tr th {\n",
       "        vertical-align: top;\n",
       "    }\n",
       "\n",
       "    .dataframe thead th {\n",
       "        text-align: right;\n",
       "    }\n",
       "</style>\n",
       "<table border=\"1\" class=\"dataframe\">\n",
       "  <thead>\n",
       "    <tr style=\"text-align: right;\">\n",
       "      <th></th>\n",
       "      <th>country</th>\n",
       "    </tr>\n",
       "  </thead>\n",
       "  <tbody>\n",
       "    <tr>\n",
       "      <th>count</th>\n",
       "      <td>112147</td>\n",
       "    </tr>\n",
       "    <tr>\n",
       "      <th>unique</th>\n",
       "      <td>3</td>\n",
       "    </tr>\n",
       "    <tr>\n",
       "      <th>top</th>\n",
       "      <td>usa</td>\n",
       "    </tr>\n",
       "    <tr>\n",
       "      <th>freq</th>\n",
       "      <td>69636</td>\n",
       "    </tr>\n",
       "  </tbody>\n",
       "</table>\n",
       "</div>"
      ],
      "text/plain": [
       "       country\n",
       "count   112147\n",
       "unique  3     \n",
       "top     usa   \n",
       "freq    69636 "
      ]
     },
     "execution_count": 10,
     "metadata": {},
     "output_type": "execute_result"
    }
   ],
   "source": [
    "df_train.describe(include =['O'])"
   ]
  },
  {
   "cell_type": "markdown",
   "metadata": {},
   "source": [
    "## Analyze by pivoting features\n",
    "\n",
    "To confirm some of our observations and assumptions, we can quickly analyze our feature correlations by pivoting features against each other and look at the mean. We can only do so at this stage for features which do not have any empty values."
   ]
  },
  {
   "cell_type": "code",
   "execution_count": 11,
   "metadata": {},
   "outputs": [
    {
     "data": {
      "text/html": [
       "<div>\n",
       "<style scoped>\n",
       "    .dataframe tbody tr th:only-of-type {\n",
       "        vertical-align: middle;\n",
       "    }\n",
       "\n",
       "    .dataframe tbody tr th {\n",
       "        vertical-align: top;\n",
       "    }\n",
       "\n",
       "    .dataframe thead th {\n",
       "        text-align: right;\n",
       "    }\n",
       "</style>\n",
       "<table border=\"1\" class=\"dataframe\">\n",
       "  <thead>\n",
       "    <tr style=\"text-align: right;\">\n",
       "      <th></th>\n",
       "      <th>country</th>\n",
       "      <th>AboutMe_length</th>\n",
       "    </tr>\n",
       "  </thead>\n",
       "  <tbody>\n",
       "    <tr>\n",
       "      <th>2</th>\n",
       "      <td>usa</td>\n",
       "      <td>126.141182</td>\n",
       "    </tr>\n",
       "    <tr>\n",
       "      <th>1</th>\n",
       "      <td>russia</td>\n",
       "      <td>70.868387</td>\n",
       "    </tr>\n",
       "    <tr>\n",
       "      <th>0</th>\n",
       "      <td>china</td>\n",
       "      <td>49.014603</td>\n",
       "    </tr>\n",
       "  </tbody>\n",
       "</table>\n",
       "</div>"
      ],
      "text/plain": [
       "  country  AboutMe_length\n",
       "2  usa     126.141182    \n",
       "1  russia  70.868387     \n",
       "0  china   49.014603     "
      ]
     },
     "execution_count": 11,
     "metadata": {},
     "output_type": "execute_result"
    }
   ],
   "source": [
    "df_train[['country', 'AboutMe_length']].groupby(['country'], as_index=False).mean().sort_values(by='AboutMe_length', ascending=False)"
   ]
  },
  {
   "cell_type": "code",
   "execution_count": 12,
   "metadata": {},
   "outputs": [
    {
     "data": {
      "text/plain": [
       "['IdcountryAboutMe_lengthactivity_in_monthsUpVotesDownVotesReputationViewsbadgesQ_commentsA_commentsP_questionsP_answersp_ModeratorNominationp_TagWikip_TagWikiExerptph_InitialTitleph_EditTitleph_InitialBodyph_InitialTagsph_EditBodyph_EditTagsph_RollbackTitleph_RollbackBodyph_PostReopenedph_RollbackTagsph_PostClosedph_PostDeletedph_PostUndeletedph_CommunityOwnedph_PostLockedph_PostUnlockedph_QuestionUnprotectedph_QuestionProtectedph_PostNoticeRemovedph_PostNoticeAddedph_PostMergeSourceph_PostMigratedAwayph_PostMergeDestination']"
      ]
     },
     "execution_count": 12,
     "metadata": {},
     "output_type": "execute_result"
    }
   ],
   "source": [
    "['Id' 'country' 'AboutMe_length' 'activity_in_months' 'UpVotes'\n",
    " 'DownVotes' 'Reputation' 'Views' 'badges' 'Q_comments' 'A_comments'\n",
    " 'P_questions' 'P_answers' 'p_ModeratorNomination' 'p_TagWiki'\n",
    " 'p_TagWikiExerpt' 'ph_InitialTitle' 'ph_EditTitle' 'ph_InitialBody'\n",
    " 'ph_InitialTags' 'ph_EditBody' 'ph_EditTags' 'ph_RollbackTitle'\n",
    " 'ph_RollbackBody' 'ph_PostReopened' 'ph_RollbackTags' 'ph_PostClosed'\n",
    " 'ph_PostDeleted' 'ph_PostUndeleted' 'ph_CommunityOwned' 'ph_PostLocked'\n",
    " 'ph_PostUnlocked' 'ph_QuestionUnprotected' 'ph_QuestionProtected'\n",
    " 'ph_PostNoticeRemoved' 'ph_PostNoticeAdded' 'ph_PostMergeSource'\n",
    " 'ph_PostMigratedAway' 'ph_PostMergeDestination']"
   ]
  },
  {
   "cell_type": "code",
   "execution_count": 13,
   "metadata": {},
   "outputs": [
    {
     "data": {
      "text/html": [
       "<div>\n",
       "<style scoped>\n",
       "    .dataframe tbody tr th:only-of-type {\n",
       "        vertical-align: middle;\n",
       "    }\n",
       "\n",
       "    .dataframe tbody tr th {\n",
       "        vertical-align: top;\n",
       "    }\n",
       "\n",
       "    .dataframe thead th {\n",
       "        text-align: right;\n",
       "    }\n",
       "</style>\n",
       "<table border=\"1\" class=\"dataframe\">\n",
       "  <thead>\n",
       "    <tr style=\"text-align: right;\">\n",
       "      <th></th>\n",
       "      <th>country</th>\n",
       "      <th>activity_in_months</th>\n",
       "    </tr>\n",
       "  </thead>\n",
       "  <tbody>\n",
       "    <tr>\n",
       "      <th>2</th>\n",
       "      <td>usa</td>\n",
       "      <td>36.270106</td>\n",
       "    </tr>\n",
       "    <tr>\n",
       "      <th>1</th>\n",
       "      <td>russia</td>\n",
       "      <td>36.041291</td>\n",
       "    </tr>\n",
       "    <tr>\n",
       "      <th>0</th>\n",
       "      <td>china</td>\n",
       "      <td>24.821235</td>\n",
       "    </tr>\n",
       "  </tbody>\n",
       "</table>\n",
       "</div>"
      ],
      "text/plain": [
       "  country  activity_in_months\n",
       "2  usa     36.270106         \n",
       "1  russia  36.041291         \n",
       "0  china   24.821235         "
      ]
     },
     "execution_count": 13,
     "metadata": {},
     "output_type": "execute_result"
    }
   ],
   "source": [
    "df_train[['country', 'activity_in_months']].groupby(['country'], as_index=False).mean().sort_values(by='activity_in_months', ascending=False)"
   ]
  },
  {
   "cell_type": "code",
   "execution_count": 14,
   "metadata": {},
   "outputs": [
    {
     "data": {
      "text/html": [
       "<div>\n",
       "<style scoped>\n",
       "    .dataframe tbody tr th:only-of-type {\n",
       "        vertical-align: middle;\n",
       "    }\n",
       "\n",
       "    .dataframe tbody tr th {\n",
       "        vertical-align: top;\n",
       "    }\n",
       "\n",
       "    .dataframe thead th {\n",
       "        text-align: right;\n",
       "    }\n",
       "</style>\n",
       "<table border=\"1\" class=\"dataframe\">\n",
       "  <thead>\n",
       "    <tr style=\"text-align: right;\">\n",
       "      <th></th>\n",
       "      <th>country</th>\n",
       "      <th>UpVotes</th>\n",
       "    </tr>\n",
       "  </thead>\n",
       "  <tbody>\n",
       "    <tr>\n",
       "      <th>2</th>\n",
       "      <td>usa</td>\n",
       "      <td>67.971509</td>\n",
       "    </tr>\n",
       "    <tr>\n",
       "      <th>1</th>\n",
       "      <td>russia</td>\n",
       "      <td>57.358523</td>\n",
       "    </tr>\n",
       "    <tr>\n",
       "      <th>0</th>\n",
       "      <td>china</td>\n",
       "      <td>15.112629</td>\n",
       "    </tr>\n",
       "  </tbody>\n",
       "</table>\n",
       "</div>"
      ],
      "text/plain": [
       "  country    UpVotes\n",
       "2  usa     67.971509\n",
       "1  russia  57.358523\n",
       "0  china   15.112629"
      ]
     },
     "execution_count": 14,
     "metadata": {},
     "output_type": "execute_result"
    }
   ],
   "source": [
    "df_train[['country', 'UpVotes']].groupby(['country'], as_index=False).mean().sort_values(by='UpVotes', ascending=False)"
   ]
  },
  {
   "cell_type": "code",
   "execution_count": 15,
   "metadata": {},
   "outputs": [
    {
     "data": {
      "text/html": [
       "<div>\n",
       "<style scoped>\n",
       "    .dataframe tbody tr th:only-of-type {\n",
       "        vertical-align: middle;\n",
       "    }\n",
       "\n",
       "    .dataframe tbody tr th {\n",
       "        vertical-align: top;\n",
       "    }\n",
       "\n",
       "    .dataframe thead th {\n",
       "        text-align: right;\n",
       "    }\n",
       "</style>\n",
       "<table border=\"1\" class=\"dataframe\">\n",
       "  <thead>\n",
       "    <tr style=\"text-align: right;\">\n",
       "      <th></th>\n",
       "      <th>country</th>\n",
       "      <th>DownVotes</th>\n",
       "    </tr>\n",
       "  </thead>\n",
       "  <tbody>\n",
       "    <tr>\n",
       "      <th>2</th>\n",
       "      <td>usa</td>\n",
       "      <td>8.554081</td>\n",
       "    </tr>\n",
       "    <tr>\n",
       "      <th>1</th>\n",
       "      <td>russia</td>\n",
       "      <td>3.581173</td>\n",
       "    </tr>\n",
       "    <tr>\n",
       "      <th>0</th>\n",
       "      <td>china</td>\n",
       "      <td>1.083023</td>\n",
       "    </tr>\n",
       "  </tbody>\n",
       "</table>\n",
       "</div>"
      ],
      "text/plain": [
       "  country  DownVotes\n",
       "2  usa     8.554081 \n",
       "1  russia  3.581173 \n",
       "0  china   1.083023 "
      ]
     },
     "execution_count": 15,
     "metadata": {},
     "output_type": "execute_result"
    }
   ],
   "source": [
    "df_train[['country', 'DownVotes']].groupby(['country'], as_index=False).mean().sort_values(by='DownVotes', ascending=False)"
   ]
  },
  {
   "cell_type": "code",
   "execution_count": 16,
   "metadata": {},
   "outputs": [
    {
     "data": {
      "text/html": [
       "<div>\n",
       "<style scoped>\n",
       "    .dataframe tbody tr th:only-of-type {\n",
       "        vertical-align: middle;\n",
       "    }\n",
       "\n",
       "    .dataframe tbody tr th {\n",
       "        vertical-align: top;\n",
       "    }\n",
       "\n",
       "    .dataframe thead th {\n",
       "        text-align: right;\n",
       "    }\n",
       "</style>\n",
       "<table border=\"1\" class=\"dataframe\">\n",
       "  <thead>\n",
       "    <tr style=\"text-align: right;\">\n",
       "      <th></th>\n",
       "      <th>country</th>\n",
       "      <th>Reputation</th>\n",
       "    </tr>\n",
       "  </thead>\n",
       "  <tbody>\n",
       "    <tr>\n",
       "      <th>2</th>\n",
       "      <td>usa</td>\n",
       "      <td>726.455942</td>\n",
       "    </tr>\n",
       "    <tr>\n",
       "      <th>1</th>\n",
       "      <td>russia</td>\n",
       "      <td>432.343258</td>\n",
       "    </tr>\n",
       "    <tr>\n",
       "      <th>0</th>\n",
       "      <td>china</td>\n",
       "      <td>150.207058</td>\n",
       "    </tr>\n",
       "  </tbody>\n",
       "</table>\n",
       "</div>"
      ],
      "text/plain": [
       "  country  Reputation\n",
       "2  usa     726.455942\n",
       "1  russia  432.343258\n",
       "0  china   150.207058"
      ]
     },
     "execution_count": 16,
     "metadata": {},
     "output_type": "execute_result"
    }
   ],
   "source": [
    "df_train[['country', 'Reputation']].groupby(['country'], as_index=False).mean().sort_values(by='Reputation', ascending=False)"
   ]
  },
  {
   "cell_type": "code",
   "execution_count": 29,
   "metadata": {},
   "outputs": [
    {
     "data": {
      "image/png": "[encoded data removed]",
      "text/plain": [
       "<Figure size 2160x1440 with 1 Axes>"
      ]
     },
     "metadata": {
      "needs_background": "light"
     },
     "output_type": "display_data"
    }
   ],
   "source": [
    "num_cols = ['AboutMe_length','activity_in_months','UpVotes','DownVotes','Reputation','Views','badges','Q_comments','A_comments','P_questions','P_answers','p_ModeratorNomination','p_TagWiki','p_TagWikiExerpt','ph_InitialTitle','ph_EditTitle','ph_InitialBody','ph_InitialTags','ph_EditBody','ph_EditTags','ph_RollbackTitle','ph_RollbackBody','ph_PostReopened','ph_RollbackTags','ph_PostClosed','ph_PostDeleted','ph_PostUndeleted','ph_CommunityOwned','ph_PostLocked','ph_PostUnlocked','ph_QuestionUnprotected','ph_QuestionProtected','ph_PostNoticeRemoved','ph_PostNoticeAdded','ph_PostMergeSource','ph_PostMigratedAway','ph_PostMergeDestination']\n",
    "plt.figure(figsize=(30,20))\n",
    "df[num_cols].boxplot()\n",
    "plt.title(\"Numerical variables in our dataframe\", fontsize=20)\n",
    "plt.show()"
   ]
  },
  {
   "cell_type": "code",
   "execution_count": 54,
   "metadata": {},
   "outputs": [
    {
     "data": {
      "image/png": "[encoded data removed]",
      "text/plain": [
       "<Figure size 1440x1080 with 1 Axes>"
      ]
     },
     "metadata": {
      "needs_background": "light"
     },
     "output_type": "display_data"
    }
   ],
   "source": [
    "num_cols = ['P_answers']\n",
    "plt.figure(figsize=(20,15))\n",
    "df[num_cols].boxplot()\n",
    "plt.title(\"Numerical variables in our dataframe\", fontsize=40)\n",
    "plt.show()"
   ]
  },
  {
   "cell_type": "code",
   "execution_count": null,
   "metadata": {},
   "outputs": [],
   "source": [
    "df[df.DownVotes > 40000] = None;\n",
    "df[df.Reputation > 600000] = None;\n",
    "df[df.Views > 50000] = None;"
   ]
  },
  {
   "cell_type": "code",
   "execution_count": 53,
   "metadata": {},
   "outputs": [],
   "source": [
    "df[df.Views > 50000] = None;"
   ]
  },
  {
   "cell_type": "code",
   "execution_count": 26,
   "metadata": {
    "scrolled": true
   },
   "outputs": [
    {
     "data": {
      "text/plain": [
       "<seaborn.axisgrid.FacetGrid at 0x1bdb2b6b5f8>"
      ]
     },
     "execution_count": 26,
     "metadata": {},
     "output_type": "execute_result"
    },
    {
     "data": {
      "image/png": "[encoded data removed]",
      "text/plain": [
       "<Figure size 648x216 with 3 Axes>"
      ]
     },
     "metadata": {
      "needs_background": "light"
     },
     "output_type": "display_data"
    }
   ],
   "source": [
    "g = sns.FacetGrid(df_train, col='country')\n",
    "g.map(plt.hist, 'P_questions', bins=20)"
   ]
  },
  {
   "cell_type": "code",
   "execution_count": 27,
   "metadata": {},
   "outputs": [
    {
     "data": {
      "text/plain": [
       "<seaborn.axisgrid.FacetGrid at 0x1bdb44935c0>"
      ]
     },
     "execution_count": 27,
     "metadata": {},
     "output_type": "execute_result"
    },
    {
     "data": {
      "image/png": "[encoded data removed]",
      "text/plain": [
       "<Figure size 648x216 with 3 Axes>"
      ]
     },
     "metadata": {
      "needs_background": "light"
     },
     "output_type": "display_data"
    }
   ],
   "source": [
    "g = sns.FacetGrid(df_train, col='country')\n",
    "g.map(plt.hist, 'P_answers', bins=20)"
   ]
  },
  {
   "cell_type": "code",
   "execution_count": null,
   "metadata": {},
   "outputs": [],
   "source": [
    "grid = sns.FacetGrid(train_df, col='Survived', row='Pclass', size=2.2, aspect=1.6)\n",
    "grid.map(plt.hist, 'Age', alpha=.5, bins=20)\n",
    "grid.add_legend();"
   ]
  }
 ],
 "metadata": {
  "kernelspec": {
   "display_name": "Python 3",
   "language": "python",
   "name": "python3"
  },
  "language_info": {
   "codemirror_mode": {
    "name": "ipython",
    "version": 3
   },
   "file_extension": ".py",
   "mimetype": "text/x-python",
   "name": "python",
   "nbconvert_exporter": "python",
   "pygments_lexer": "ipython3",
   "version": "3.7.3"
  }
 },
 "nbformat": 4,
 "nbformat_minor": 2
}
