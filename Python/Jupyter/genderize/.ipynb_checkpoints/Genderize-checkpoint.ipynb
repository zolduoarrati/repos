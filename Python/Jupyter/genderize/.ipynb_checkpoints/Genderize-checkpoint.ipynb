{
 "cells": [
  {
   "cell_type": "code",
   "execution_count": 1,
   "metadata": {},
   "outputs": [],
   "source": [
    "# noinspection PyProtectedMember\n",
    "from genderize import Genderize, GenderizeException, _chunked"
   ]
  },
  {
   "cell_type": "code",
   "execution_count": 2,
   "metadata": {},
   "outputs": [],
   "source": [
    "def test_integration():\n",
    "    \"\"\"\n",
    "    Integration test from the readme. Calls the real Genderize.io API server.\n",
    "    \"\"\"\n",
    "    expected_genders = {\n",
    "        'James': 'male',\n",
    "        'Eva': 'female',\n",
    "        'Thunderhorse': None,\n",
    "    }\n",
    "    actual_genders = dict((elem['name'], elem['gender'])\n",
    "                          for elem in Genderize().get(expected_genders.keys()))\n",
    "    assert expected_genders == actual_genders,\\\n",
    "        \"Expected {0}, got {1}\".format(expected_genders, actual_genders)"
   ]
  },
  {
   "cell_type": "code",
   "execution_count": null,
   "metadata": {},
   "outputs": [],
   "source": []
  }
 ],
 "metadata": {
  "kernelspec": {
   "display_name": "Python 3",
   "language": "python",
   "name": "python3"
  },
  "language_info": {
   "codemirror_mode": {
    "name": "ipython",
    "version": 3
   },
   "file_extension": ".py",
   "mimetype": "text/x-python",
   "name": "python",
   "nbconvert_exporter": "python",
   "pygments_lexer": "ipython3",
   "version": "3.7.3"
  }
 },
 "nbformat": 4,
 "nbformat_minor": 2
}
