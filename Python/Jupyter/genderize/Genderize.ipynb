{
 "cells": [
  {
   "cell_type": "code",
   "execution_count": 1,
   "metadata": {},
   "outputs": [],
   "source": [
    "# noinspection PyProtectedMember\n",
    "from genderize import Genderize, GenderizeException, _chunked"
   ]
  },
  {
   "cell_type": "code",
   "execution_count": 6,
   "metadata": {},
   "outputs": [],
   "source": [
    "def test_integration():\n",
    "    \"\"\"\n",
    "    Integration test from the readme. Calls the real Genderize.io API server.\n",
    "    \"\"\"\n",
    "    expected_genders = {\n",
    "        'James': 'male',\n",
    "        'Eva': 'female',\n",
    "        'Thunderhorse': 'female',\n",
    "    }\n",
    "    actual_genders = dict((elem['name'], elem['gender'])\n",
    "                          for elem in Genderize().get(expected_genders.keys()))\n",
    "    assert expected_genders == actual_genders,\\\n",
    "        \"Expected {0}, got {1}\".format(expected_genders, actual_genders)"
   ]
  },
  {
   "cell_type": "code",
   "execution_count": 7,
   "metadata": {},
   "outputs": [
    {
     "ename": "AssertionError",
     "evalue": "Expected {'James': 'male', 'Eva': 'female', 'Thunderhorse': 'female'}, got {'James': 'male', 'Eva': 'female', 'Thunderhorse': 'male'}",
     "output_type": "error",
     "traceback": [
      "\u001b[1;31m---------------------------------------------------------------------------\u001b[0m",
      "\u001b[1;31mAssertionError\u001b[0m                            Traceback (most recent call last)",
      "\u001b[1;32m<ipython-input-7-610d04dba7db>\u001b[0m in \u001b[0;36m<module>\u001b[1;34m\u001b[0m\n\u001b[1;32m----> 1\u001b[1;33m \u001b[0mtest_integration\u001b[0m\u001b[1;33m(\u001b[0m\u001b[1;33m)\u001b[0m\u001b[1;33m\u001b[0m\u001b[1;33m\u001b[0m\u001b[0m\n\u001b[0m",
      "\u001b[1;32m<ipython-input-6-e3b6cab1c43b>\u001b[0m in \u001b[0;36mtest_integration\u001b[1;34m()\u001b[0m\n\u001b[0;32m     11\u001b[0m                           for elem in Genderize().get(expected_genders.keys()))\n\u001b[0;32m     12\u001b[0m     \u001b[1;32massert\u001b[0m \u001b[0mexpected_genders\u001b[0m \u001b[1;33m==\u001b[0m \u001b[0mactual_genders\u001b[0m\u001b[1;33m,\u001b[0m\u001b[0;31m\\\u001b[0m\u001b[1;33m\u001b[0m\u001b[1;33m\u001b[0m\u001b[0m\n\u001b[1;32m---> 13\u001b[1;33m         \u001b[1;34m\"Expected {0}, got {1}\"\u001b[0m\u001b[1;33m.\u001b[0m\u001b[0mformat\u001b[0m\u001b[1;33m(\u001b[0m\u001b[0mexpected_genders\u001b[0m\u001b[1;33m,\u001b[0m \u001b[0mactual_genders\u001b[0m\u001b[1;33m)\u001b[0m\u001b[1;33m\u001b[0m\u001b[1;33m\u001b[0m\u001b[0m\n\u001b[0m",
      "\u001b[1;31mAssertionError\u001b[0m: Expected {'James': 'male', 'Eva': 'female', 'Thunderhorse': 'female'}, got {'James': 'male', 'Eva': 'female', 'Thunderhorse': 'male'}"
     ]
    }
   ],
   "source": [
    "test_integration()"
   ]
  },
  {
   "cell_type": "code",
   "execution_count": 8,
   "metadata": {},
   "outputs": [],
   "source": [
    "def test_integration_single():\n",
    "    \"\"\"\n",
    "    Retrieve a single name.\n",
    "    \"\"\"\n",
    "    expected = 'male'\n",
    "    actual = Genderize().get1('Peter')['gender']\n",
    "    assert expected == actual,\\\n",
    "        \"Expected {0}, got {1}\".format(expected, actual)"
   ]
  },
  {
   "cell_type": "code",
   "execution_count": 9,
   "metadata": {},
   "outputs": [],
   "source": [
    "test_integration_single()"
   ]
  },
  {
   "cell_type": "code",
   "execution_count": 10,
   "metadata": {},
   "outputs": [
    {
     "name": "stdout",
     "output_type": "stream",
     "text": [
      "[{'name': 'James', 'gender': 'male', 'probability': 0.99, 'count': 117309}, {'name': 'Eva', 'gender': 'female', 'probability': 0.98, 'count': 135031}, {'name': 'Thunderhorse', 'gender': 'male', 'probability': 1.0, 'count': 1}]\n"
     ]
    }
   ],
   "source": [
    "print(Genderize().get(['James', 'Eva', 'Thunderhorse']))"
   ]
  },
  {
   "cell_type": "code",
   "execution_count": null,
   "metadata": {},
   "outputs": [],
   "source": []
  }
 ],
 "metadata": {
  "kernelspec": {
   "display_name": "Python 3",
   "language": "python",
   "name": "python3"
  },
  "language_info": {
   "codemirror_mode": {
    "name": "ipython",
    "version": 3
   },
   "file_extension": ".py",
   "mimetype": "text/x-python",
   "name": "python",
   "nbconvert_exporter": "python",
   "pygments_lexer": "ipython3",
   "version": "3.7.3"
  }
 },
 "nbformat": 4,
 "nbformat_minor": 2
}
